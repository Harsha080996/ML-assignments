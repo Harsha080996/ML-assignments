{
  "nbformat": 4,
  "nbformat_minor": 0,
  "metadata": {
    "colab": {
      "name": "HW1problem1.ipynb",
      "version": "0.3.2",
      "provenance": [],
      "collapsed_sections": [],
      "include_colab_link": true
    },
    "kernelspec": {
      "name": "python3",
      "display_name": "Python 3"
    }
  },
  "cells": [
    {
      "cell_type": "markdown",
      "metadata": {
        "id": "view-in-github",
        "colab_type": "text"
      },
      "source": [
        "<a href=\"https://colab.research.google.com/github/Harsha080996/ML-assignments/blob/master/HW1problem1.ipynb\" target=\"_parent\"><img src=\"https://colab.research.google.com/assets/colab-badge.svg\" alt=\"Open In Colab\"/></a>"
      ]
    },
    {
      "metadata": {
        "id": "2skU91A3tqfW",
        "colab_type": "code",
        "outputId": "af7d6eee-e5f7-41e8-c2ee-52e88a76b156",
        "colab": {
          "base_uri": "https://localhost:8080/",
          "height": 69
        }
      },
      "cell_type": "code",
      "source": [
        "\n",
        "from keras.datasets import mnist\n",
        "import keras\n",
        "import matplotlib.pyplot as plt\n",
        "import numpy as np\n",
        "from keras.utils import np_utils\n",
        "import math\n",
        "#Loading the MNIST data and classifying data into test and train set\n",
        "(X_train, Y_train), (X_test, Y_test) = mnist.load_data()\n",
        "temp = Y_test\n",
        "input_dim = 784\n",
        "output_dim = 10\n",
        "total_classes = 10\n",
        "batch_size = 8\n",
        "num_exp = 50\n",
        "learning_rate=0.005\n",
        "new_array = []\n",
        "#Now we need to train and test the model first and then we need to reshape it\n",
        "X_train = X_train.reshape(60000, input_dim)\n",
        "X_test = X_test.reshape(10000, input_dim)\n",
        "X_train = X_train.astype('float32')\n",
        "X_test = X_test.astype('float32')\n",
        "X_train /= 255\n",
        "X_test /= 255\n",
        "#one hot encoding needs to be done to make sure we have 1 for the digit and rest should be 0's in the vector\n",
        "Y_train = np_utils.to_categorical(Y_train, total_classes)\n",
        "Y_test = np_utils.to_categorical(Y_test, total_classes)\n",
        "\n"
      ],
      "execution_count": 1,
      "outputs": [
        {
          "output_type": "stream",
          "text": [
            "Using TensorFlow backend.\n"
          ],
          "name": "stderr"
        },
        {
          "output_type": "stream",
          "text": [
            "Downloading data from https://s3.amazonaws.com/img-datasets/mnist.npz\n",
            "11493376/11490434 [==============================] - 4s 0us/step\n"
          ],
          "name": "stdout"
        }
      ]
    },
    {
      "metadata": {
        "id": "OZr7wgJ0vFQg",
        "colab_type": "code",
        "colab": {}
      },
      "cell_type": "code",
      "source": [
        "#Sigmoid function \"a = f(z)\" is defined which acts as activation function\n",
        "def sigmoid_function(input): \n",
        "  z = 1/(1+np.exp(-input))\n",
        "  return z"
      ],
      "execution_count": 0,
      "outputs": []
    },
    {
      "metadata": {
        "id": "RfwHagRZvA01",
        "colab_type": "code",
        "colab": {}
      },
      "cell_type": "code",
      "source": [
        "#We need to use above activation function and declare the f(z) value, where z = Wx+b\n",
        "def main_function(Weights,bias,input):\n",
        "  result = 1/(1+np.exp(-(np.dot(Weights,np.transpose(input)) + (bias))))\n",
        "  return result"
      ],
      "execution_count": 0,
      "outputs": []
    },
    {
      "metadata": {
        "id": "4NdFfiJTvH5c",
        "colab_type": "code",
        "colab": {}
      },
      "cell_type": "code",
      "source": [
        "#We need to use mean sqaured error loss functin formula as we need to perform logistic regression using mse\n",
        "def mse(Y_train,result,batch_size):\n",
        "  loss = np.sum(np.multiply((np.transpose(Y_train) - result),(np.transpose(Y_train) - result))/2,axis=1,keepdims=True)/batch_size\n",
        "  return loss"
      ],
      "execution_count": 0,
      "outputs": []
    },
    {
      "metadata": {
        "id": "Z4UGhrYZvK1y",
        "colab_type": "code",
        "colab": {
          "base_uri": "https://localhost:8080/",
          "height": 1751
        },
        "outputId": "9d9343e9-7baf-444f-cfad-daa017026f9a"
      },
      "cell_type": "code",
      "source": [
        "def functions(X_train,Y_train,result,Weights,bias,learning_rate,batch_size):# I defined all the derivates of loss, sigmoid functions ,Weights, bias, Z value below which are the predefined formulas\n",
        "  \n",
        "  diff_loss = result - np.transpose(Y_train)  \n",
        "  diff_sigmoid = sigmoid_function(result)*(1 - sigmoid_function(result))\n",
        "  diff_zvalue = np.multiply(diff_loss,diff_sigmoid)\n",
        "  diff_Weights = np.dot(diff_zvalue,X_train)\n",
        "  diff_bias = np.sum(diff_zvalue,axis=1,keepdims=True)\n",
        "  Weights -= learning_rate*diff_Weights\n",
        "  bias -= learning_rate*diff_bias\n",
        "  return Weights,bias\n",
        "Weights = np.random.randn(10,784)*0.01# values of weights and bias are defined.\n",
        "bias = np.random.randn(10,1)\n",
        "for i in range(num_exp):#Training the model by using logistric regression with mse\n",
        "  for j in range(0, X_train.shape[0], batch_size):\n",
        "    result = main_function(Weights,bias,X_train[j:j+batch_size])\n",
        "    Weights,bias = functions(X_train[j:j+batch_size],Y_train[j:j+batch_size],result,Weights,bias,learning_rate,batch_size)\n",
        "  final = np.transpose(main_function(Weights,bias,X_test))\n",
        "  new_list = list()\n",
        "  for k in range(10000): new_list.append(np.argmax(final[k]))\n",
        "  a = 0\n",
        "  for l in range(10000):\n",
        "    if new_list[l]  == temp[l]:a += 1 #calculating the accuracy of the model\n",
        "  print('Epoch_value : ', i+1)#printing the epoch values\n",
        "  print('accuracy : ',a*0.01)#printing accuracy for each epoch value\n",
        "  new_array.append(a*0.01)"
      ],
      "execution_count": 5,
      "outputs": [
        {
          "output_type": "stream",
          "text": [
            "Epoch_value :  1\n",
            "accuracy :  89.29\n",
            "Epoch_value :  2\n",
            "accuracy :  90.25\n",
            "Epoch_value :  3\n",
            "accuracy :  90.65\n",
            "Epoch_value :  4\n",
            "accuracy :  91.0\n",
            "Epoch_value :  5\n",
            "accuracy :  91.11\n",
            "Epoch_value :  6\n",
            "accuracy :  91.25\n",
            "Epoch_value :  7\n",
            "accuracy :  91.31\n",
            "Epoch_value :  8\n",
            "accuracy :  91.37\n",
            "Epoch_value :  9\n",
            "accuracy :  91.43\n",
            "Epoch_value :  10\n",
            "accuracy :  91.46000000000001\n",
            "Epoch_value :  11\n",
            "accuracy :  91.48\n",
            "Epoch_value :  12\n",
            "accuracy :  91.5\n",
            "Epoch_value :  13\n",
            "accuracy :  91.48\n",
            "Epoch_value :  14\n",
            "accuracy :  91.48\n",
            "Epoch_value :  15\n",
            "accuracy :  91.54\n",
            "Epoch_value :  16\n",
            "accuracy :  91.55\n",
            "Epoch_value :  17\n",
            "accuracy :  91.56\n",
            "Epoch_value :  18\n",
            "accuracy :  91.55\n",
            "Epoch_value :  19\n",
            "accuracy :  91.57000000000001\n",
            "Epoch_value :  20\n",
            "accuracy :  91.58\n",
            "Epoch_value :  21\n",
            "accuracy :  91.60000000000001\n",
            "Epoch_value :  22\n",
            "accuracy :  91.63\n",
            "Epoch_value :  23\n",
            "accuracy :  91.66\n",
            "Epoch_value :  24\n",
            "accuracy :  91.66\n",
            "Epoch_value :  25\n",
            "accuracy :  91.66\n",
            "Epoch_value :  26\n",
            "accuracy :  91.68\n",
            "Epoch_value :  27\n",
            "accuracy :  91.67\n",
            "Epoch_value :  28\n",
            "accuracy :  91.67\n",
            "Epoch_value :  29\n",
            "accuracy :  91.68\n",
            "Epoch_value :  30\n",
            "accuracy :  91.69\n",
            "Epoch_value :  31\n",
            "accuracy :  91.66\n",
            "Epoch_value :  32\n",
            "accuracy :  91.7\n",
            "Epoch_value :  33\n",
            "accuracy :  91.71000000000001\n",
            "Epoch_value :  34\n",
            "accuracy :  91.74\n",
            "Epoch_value :  35\n",
            "accuracy :  91.73\n",
            "Epoch_value :  36\n",
            "accuracy :  91.74\n",
            "Epoch_value :  37\n",
            "accuracy :  91.74\n",
            "Epoch_value :  38\n",
            "accuracy :  91.73\n",
            "Epoch_value :  39\n",
            "accuracy :  91.74\n",
            "Epoch_value :  40\n",
            "accuracy :  91.75\n",
            "Epoch_value :  41\n",
            "accuracy :  91.74\n",
            "Epoch_value :  42\n",
            "accuracy :  91.75\n",
            "Epoch_value :  43\n",
            "accuracy :  91.77\n",
            "Epoch_value :  44\n",
            "accuracy :  91.78\n",
            "Epoch_value :  45\n",
            "accuracy :  91.79\n",
            "Epoch_value :  46\n",
            "accuracy :  91.79\n",
            "Epoch_value :  47\n",
            "accuracy :  91.79\n",
            "Epoch_value :  48\n",
            "accuracy :  91.76\n",
            "Epoch_value :  49\n",
            "accuracy :  91.76\n",
            "Epoch_value :  50\n",
            "accuracy :  91.75\n"
          ],
          "name": "stdout"
        }
      ]
    },
    {
      "metadata": {
        "id": "UGu-3mXcwnlZ",
        "colab_type": "code",
        "outputId": "8e4e0762-f86b-4cbd-f6a9-3efeba6eb251",
        "colab": {
          "base_uri": "https://localhost:8080/",
          "height": 379
        }
      },
      "cell_type": "code",
      "source": [
        "#plotting the accuracy for the above code\n",
        "plt.plot(new_array, label=\"Accuracy\")\n",
        "plt.xlabel('epoch_values')\n",
        "plt.ylabel('accuracy')\n",
        "plt.legend()"
      ],
      "execution_count": 6,
      "outputs": [
        {
          "output_type": "execute_result",
          "data": {
            "text/plain": [
              "<matplotlib.legend.Legend at 0x7f58b8982b00>"
            ]
          },
          "metadata": {
            "tags": []
          },
          "execution_count": 6
        },
        {
          "output_type": "display_data",
          "data": {
            "image/png": "[encoded data removed]",
            "text/plain": [
              "<Figure size 576x396 with 1 Axes>"
            ]
          },
          "metadata": {
            "tags": []
          }
        }
      ]
    }
  ]
}