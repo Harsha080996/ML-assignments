{
  "nbformat": 4,
  "nbformat_minor": 0,
  "metadata": {
    "colab": {
      "name": "problem4.ipynb",
      "version": "0.3.2",
      "provenance": [],
      "include_colab_link": true
    },
    "kernelspec": {
      "name": "python3",
      "display_name": "Python 3"
    }
  },
  "cells": [
    {
      "cell_type": "markdown",
      "metadata": {
        "id": "view-in-github",
        "colab_type": "text"
      },
      "source": [
        "<a href=\"https://colab.research.google.com/github/Harsha080996/ML-assignments/blob/master/problem4.ipynb\" target=\"_parent\"><img src=\"https://colab.research.google.com/assets/colab-badge.svg\" alt=\"Open In Colab\"/></a>"
      ]
    },
    {
      "metadata": {
        "id": "6Ijq0AcJjbm7",
        "colab_type": "code",
        "colab": {
          "base_uri": "https://localhost:8080/",
          "height": 956
        },
        "outputId": "d873e42a-71fe-4e70-f49b-0f1edb15f52d"
      },
      "cell_type": "code",
      "source": [
        "from keras.datasets import mnist\n",
        "from keras.utils import np_utils\n",
        "from keras.models import Sequential\n",
        "from keras.layers import Dense, Activation\n",
        "# the data, shuffled and split between train and test sets\n",
        "(X_train, y_train), (X_test, y_test) = mnist.load_data()\n",
        "input_dim = 784 #28*28\n",
        "nb_classes = 10\n",
        "X_train = X_train.reshape(60000, input_dim)\n",
        "X_test = X_test.reshape(10000, input_dim)\n",
        "X_train = X_train.astype('float32')\n",
        "X_test = X_test.astype('float32')\n",
        "X_train /= 255\n",
        "X_test /= 255\n",
        "Y_train = np_utils.to_categorical(y_train, nb_classes)\n",
        "Y_test = np_utils.to_categorical(y_test, nb_classes)\n",
        "output_dim = nb_classes = 10\n",
        "model = Sequential()\n",
        "model.add(Dense(output_dim, input_dim=input_dim, activation='softmax'))\n",
        "batch_size = 128\n",
        "nb_epoch = 20\n",
        "model.compile(optimizer='sgd', loss='categorical_crossentropy', metrics=['accuracy'])\n",
        "history = model.fit(X_train, Y_train, batch_size=batch_size, nb_epoch=nb_epoch,verbose=1, validation_data=(X_test, Y_test))\n",
        "score = model.evaluate(X_test, Y_test, verbose=0)\n",
        "print('Test score:', score[0])\n",
        "print('Test accuracy:', score[1])"
      ],
      "execution_count": 1,
      "outputs": [
        {
          "output_type": "stream",
          "text": [
            "Using TensorFlow backend.\n"
          ],
          "name": "stderr"
        },
        {
          "output_type": "stream",
          "text": [
            "Downloading data from https://s3.amazonaws.com/img-datasets/mnist.npz\n",
            "11493376/11490434 [==============================] - 0s 0us/step\n",
            "WARNING:tensorflow:From /usr/local/lib/python3.6/dist-packages/tensorflow/python/framework/op_def_library.py:263: colocate_with (from tensorflow.python.framework.ops) is deprecated and will be removed in a future version.\n",
            "Instructions for updating:\n",
            "Colocations handled automatically by placer.\n",
            "WARNING:tensorflow:From /usr/local/lib/python3.6/dist-packages/tensorflow/python/ops/math_ops.py:3066: to_int32 (from tensorflow.python.ops.math_ops) is deprecated and will be removed in a future version.\n",
            "Instructions for updating:\n",
            "Use tf.cast instead.\n"
          ],
          "name": "stdout"
        },
        {
          "output_type": "stream",
          "text": [
            "/usr/local/lib/python3.6/dist-packages/ipykernel_launcher.py:23: UserWarning: The `nb_epoch` argument in `fit` has been renamed `epochs`.\n"
          ],
          "name": "stderr"
        },
        {
          "output_type": "stream",
          "text": [
            "Train on 60000 samples, validate on 10000 samples\n",
            "Epoch 1/20\n",
            "60000/60000 [==============================] - 2s 29us/step - loss: 1.2789 - acc: 0.6948 - val_loss: 0.8148 - val_acc: 0.8266\n",
            "Epoch 2/20\n",
            "60000/60000 [==============================] - 1s 20us/step - loss: 0.7169 - acc: 0.8389 - val_loss: 0.6092 - val_acc: 0.8593\n",
            "Epoch 3/20\n",
            "60000/60000 [==============================] - 1s 18us/step - loss: 0.5872 - acc: 0.8598 - val_loss: 0.5267 - val_acc: 0.8728\n",
            "Epoch 4/20\n",
            "60000/60000 [==============================] - 1s 17us/step - loss: 0.5251 - acc: 0.8688 - val_loss: 0.4805 - val_acc: 0.8817\n",
            "Epoch 5/20\n",
            "60000/60000 [==============================] - 1s 17us/step - loss: 0.4873 - acc: 0.8751 - val_loss: 0.4506 - val_acc: 0.8852\n",
            "Epoch 6/20\n",
            "60000/60000 [==============================] - 1s 17us/step - loss: 0.4613 - acc: 0.8796 - val_loss: 0.4289 - val_acc: 0.8890\n",
            "Epoch 7/20\n",
            "60000/60000 [==============================] - 1s 17us/step - loss: 0.4421 - acc: 0.8834 - val_loss: 0.4124 - val_acc: 0.8920\n",
            "Epoch 8/20\n",
            "60000/60000 [==============================] - 1s 17us/step - loss: 0.4272 - acc: 0.8865 - val_loss: 0.3998 - val_acc: 0.8941\n",
            "Epoch 9/20\n",
            "60000/60000 [==============================] - 1s 17us/step - loss: 0.4151 - acc: 0.8893 - val_loss: 0.3890 - val_acc: 0.8961\n",
            "Epoch 10/20\n",
            "60000/60000 [==============================] - 1s 17us/step - loss: 0.4052 - acc: 0.8907 - val_loss: 0.3805 - val_acc: 0.8977\n",
            "Epoch 11/20\n",
            "60000/60000 [==============================] - 1s 17us/step - loss: 0.3967 - acc: 0.8927 - val_loss: 0.3729 - val_acc: 0.9004\n",
            "Epoch 12/20\n",
            "60000/60000 [==============================] - 1s 17us/step - loss: 0.3894 - acc: 0.8945 - val_loss: 0.3666 - val_acc: 0.9020\n",
            "Epoch 13/20\n",
            "60000/60000 [==============================] - 1s 17us/step - loss: 0.3831 - acc: 0.8964 - val_loss: 0.3610 - val_acc: 0.9034\n",
            "Epoch 14/20\n",
            "60000/60000 [==============================] - 1s 17us/step - loss: 0.3775 - acc: 0.8972 - val_loss: 0.3562 - val_acc: 0.9058\n",
            "Epoch 15/20\n",
            "60000/60000 [==============================] - 1s 17us/step - loss: 0.3725 - acc: 0.8983 - val_loss: 0.3515 - val_acc: 0.9068\n",
            "Epoch 16/20\n",
            "60000/60000 [==============================] - 1s 17us/step - loss: 0.3680 - acc: 0.8994 - val_loss: 0.3478 - val_acc: 0.9075\n",
            "Epoch 17/20\n",
            "60000/60000 [==============================] - 1s 17us/step - loss: 0.3639 - acc: 0.9000 - val_loss: 0.3441 - val_acc: 0.9082\n",
            "Epoch 18/20\n",
            "60000/60000 [==============================] - 1s 17us/step - loss: 0.3602 - acc: 0.9010 - val_loss: 0.3409 - val_acc: 0.9089\n",
            "Epoch 19/20\n",
            "60000/60000 [==============================] - 1s 17us/step - loss: 0.3568 - acc: 0.9015 - val_loss: 0.3377 - val_acc: 0.9093\n",
            "Epoch 20/20\n",
            "60000/60000 [==============================] - 1s 17us/step - loss: 0.3536 - acc: 0.9025 - val_loss: 0.3350 - val_acc: 0.9096\n",
            "Test score: 0.33499556573033334\n",
            "Test accuracy: 0.9096\n"
          ],
          "name": "stdout"
        }
      ]
    }
  ]
}