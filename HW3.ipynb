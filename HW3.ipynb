{
  "nbformat": 4,
  "nbformat_minor": 0,
  "metadata": {
    "colab": {
      "name": "HW3.ipynb",
      "version": "0.3.2",
      "provenance": [],
      "include_colab_link": true
    },
    "kernelspec": {
      "name": "python3",
      "display_name": "Python 3"
    },
    "accelerator": "GPU"
  },
  "cells": [
    {
      "cell_type": "markdown",
      "metadata": {
        "id": "view-in-github",
        "colab_type": "text"
      },
      "source": [
        "<a href=\"https://colab.research.google.com/github/Harsha080996/ML-assignments/blob/master/HW3.ipynb\" target=\"_parent\"><img src=\"https://colab.research.google.com/assets/colab-badge.svg\" alt=\"Open In Colab\"/></a>"
      ]
    },
    {
      "metadata": {
        "id": "ng4dpKznWRCT",
        "colab_type": "code",
        "colab": {
          "base_uri": "https://localhost:8080/",
          "height": 208
        },
        "outputId": "612847dc-8c7b-4211-bad8-7e3699fb282b"
      },
      "cell_type": "code",
      "source": [
        "!wget --no-check-certificate \\\n",
        "    https://storage.googleapis.com/mledu-datasets/cats_and_dogs_filtered.zip \\\n",
        "    -O /tmp/cats_and_dogs_filtered.zip"
      ],
      "execution_count": 2,
      "outputs": [
        {
          "output_type": "stream",
          "text": [
            "--2019-04-16 22:56:10--  https://storage.googleapis.com/mledu-datasets/cats_and_dogs_filtered.zip\n",
            "Resolving storage.googleapis.com (storage.googleapis.com)... 74.125.202.128, 2607:f8b0:4001:c03::80\n",
            "Connecting to storage.googleapis.com (storage.googleapis.com)|74.125.202.128|:443... connected.\n",
            "HTTP request sent, awaiting response... 200 OK\n",
            "Length: 68606236 (65M) [application/zip]\n",
            "Saving to: ‘/tmp/cats_and_dogs_filtered.zip’\n",
            "\n",
            "/tmp/cats_and_dogs_ 100%[===================>]  65.43M  9.25MB/s    in 7.1s    \n",
            "\n",
            "2019-04-16 22:56:17 (9.25 MB/s) - ‘/tmp/cats_and_dogs_filtered.zip’ saved [68606236/68606236]\n",
            "\n"
          ],
          "name": "stdout"
        }
      ]
    },
    {
      "metadata": {
        "id": "1k4TMG4uWpoA",
        "colab_type": "code",
        "colab": {}
      },
      "cell_type": "code",
      "source": [
        "import os\n",
        "import zipfile\n",
        "\n",
        "local_zip = '/tmp/cats_and_dogs_filtered.zip'\n",
        "zip_ref = zipfile.ZipFile(local_zip, 'r')\n",
        "zip_ref.extractall('/tmp')\n",
        "zip_ref.close()"
      ],
      "execution_count": 0,
      "outputs": []
    },
    {
      "metadata": {
        "id": "DU8oIkpaWwGc",
        "colab_type": "code",
        "colab": {}
      },
      "cell_type": "code",
      "source": [
        "base_dir = '/tmp/cats_and_dogs_filtered'\n",
        "train_dir = os.path.join(base_dir, 'train')\n",
        "validation_dir = os.path.join(base_dir, 'validation')\n",
        "\n",
        "# Directory with our training cat pictures\n",
        "train_cats_dir = os.path.join(train_dir, 'cats')\n",
        "\n",
        "# Directory with our training dog pictures\n",
        "train_dogs_dir = os.path.join(train_dir, 'dogs')\n",
        "\n",
        "# Directory with our validation cat pictures\n",
        "validation_cats_dir = os.path.join(validation_dir, 'cats')\n",
        "\n",
        "# Directory with our validation dog pictures\n",
        "validation_dogs_dir = os.path.join(validation_dir, 'dogs')"
      ],
      "execution_count": 0,
      "outputs": []
    },
    {
      "metadata": {
        "id": "_2rI6-SOW2ta",
        "colab_type": "code",
        "colab": {
          "base_uri": "https://localhost:8080/",
          "height": 124
        },
        "outputId": "713ddbfa-0f3c-4674-d6c2-eac220ea83f6"
      },
      "cell_type": "code",
      "source": [
        "from keras.applications import VGG19\n",
        "\n",
        "conv_base = VGG19(\n",
        "    weights='imagenet', \n",
        "    include_top=False, \n",
        "    input_shape=(150, 150, 3))"
      ],
      "execution_count": 5,
      "outputs": [
        {
          "output_type": "stream",
          "text": [
            "WARNING:tensorflow:From /usr/local/lib/python3.6/dist-packages/tensorflow/python/framework/op_def_library.py:263: colocate_with (from tensorflow.python.framework.ops) is deprecated and will be removed in a future version.\n",
            "Instructions for updating:\n",
            "Colocations handled automatically by placer.\n",
            "Downloading data from https://github.com/fchollet/deep-learning-models/releases/download/v0.1/vgg19_weights_tf_dim_ordering_tf_kernels_notop.h5\n",
            "80142336/80134624 [==============================] - 1s 0us/step\n"
          ],
          "name": "stdout"
        }
      ]
    },
    {
      "metadata": {
        "id": "YRB4-JgGW9Eg",
        "colab_type": "code",
        "colab": {}
      },
      "cell_type": "code",
      "source": [
        "conv_base.trainable = False"
      ],
      "execution_count": 0,
      "outputs": []
    },
    {
      "metadata": {
        "id": "XuTy1hHYXCsX",
        "colab_type": "code",
        "colab": {}
      },
      "cell_type": "code",
      "source": [
        "from keras import layers\n",
        "from keras import models\n",
        "from keras import optimizers\n",
        "\n",
        "model = models.Sequential()\n",
        "model.add(conv_base)\n",
        "model.add(layers.Flatten())\n",
        "model.add(layers.Dense(256, activation='relu'))\n",
        "#model.add(layers.Dropout(0.1))\n",
        "model.add(layers.Dense(1, activation='sigmoid'))"
      ],
      "execution_count": 0,
      "outputs": []
    },
    {
      "metadata": {
        "id": "s5k5bw0EXEVA",
        "colab_type": "code",
        "colab": {
          "base_uri": "https://localhost:8080/",
          "height": 277
        },
        "outputId": "4988e4c8-fb02-4b1c-eaf5-17cf9048f4e4"
      },
      "cell_type": "code",
      "source": [
        "model.summary()"
      ],
      "execution_count": 8,
      "outputs": [
        {
          "output_type": "stream",
          "text": [
            "_________________________________________________________________\n",
            "Layer (type)                 Output Shape              Param #   \n",
            "=================================================================\n",
            "vgg19 (Model)                (None, 4, 4, 512)         20024384  \n",
            "_________________________________________________________________\n",
            "flatten_1 (Flatten)          (None, 8192)              0         \n",
            "_________________________________________________________________\n",
            "dense_1 (Dense)              (None, 256)               2097408   \n",
            "_________________________________________________________________\n",
            "dense_2 (Dense)              (None, 1)                 257       \n",
            "=================================================================\n",
            "Total params: 22,122,049\n",
            "Trainable params: 2,097,665\n",
            "Non-trainable params: 20,024,384\n",
            "_________________________________________________________________\n"
          ],
          "name": "stdout"
        }
      ]
    },
    {
      "metadata": {
        "id": "ffCAi_DEXKbC",
        "colab_type": "code",
        "colab": {
          "base_uri": "https://localhost:8080/",
          "height": 1164
        },
        "outputId": "28309db4-5a06-4b7f-d2d1-bba00e602229"
      },
      "cell_type": "code",
      "source": [
        "from keras.preprocessing.image import ImageDataGenerator\n",
        "from keras import optimizers\n",
        "\n",
        "# data augmentation\n",
        "\n",
        "train_datagen = ImageDataGenerator(\n",
        "    rescale=1./255, \n",
        "    rotation_range=40,\n",
        "    width_shift_range=0.2,\n",
        "    height_shift_range=0.2,\n",
        "    shear_range=0.2,\n",
        "    zoom_range=0.2,\n",
        "    horizontal_flip=True,\n",
        "    fill_mode='nearest'\n",
        ")\n",
        "\n",
        "train_generator = train_datagen.flow_from_directory(\n",
        "    train_dir,\n",
        "    target_size=(150, 150),\n",
        "    batch_size=20,\n",
        "    class_mode='binary')\n",
        "\n",
        "validation_datagen = ImageDataGenerator(rescale=1./255)\n",
        "\n",
        "validation_generator = validation_datagen.flow_from_directory(\n",
        "    validation_dir,\n",
        "    target_size=(150, 150),\n",
        "    batch_size=20,\n",
        "    class_mode='binary')\n",
        "\n",
        "# compile model\n",
        "\n",
        "model.compile(\n",
        "    loss='binary_crossentropy', \n",
        "    optimizer=optimizers.RMSprop(lr=2e-5), \n",
        "    metrics=['acc'])\n",
        "\n",
        "# train\n",
        "\n",
        "history = model.fit_generator(\n",
        "    train_generator,\n",
        "    steps_per_epoch=100,\n",
        "    epochs=30,\n",
        "    validation_data=validation_generator,\n",
        "    validation_steps=50\n",
        ")"
      ],
      "execution_count": 9,
      "outputs": [
        {
          "output_type": "stream",
          "text": [
            "Found 2000 images belonging to 2 classes.\n",
            "Found 1000 images belonging to 2 classes.\n",
            "WARNING:tensorflow:From /usr/local/lib/python3.6/dist-packages/tensorflow/python/ops/math_ops.py:3066: to_int32 (from tensorflow.python.ops.math_ops) is deprecated and will be removed in a future version.\n",
            "Instructions for updating:\n",
            "Use tf.cast instead.\n",
            "Epoch 1/30\n",
            "100/100 [==============================] - 23s 232ms/step - loss: 0.6170 - acc: 0.6615 - val_loss: 0.4963 - val_acc: 0.7860\n",
            "Epoch 2/30\n",
            "100/100 [==============================] - 20s 197ms/step - loss: 0.5193 - acc: 0.7620 - val_loss: 0.4156 - val_acc: 0.8190\n",
            "Epoch 3/30\n",
            "100/100 [==============================] - 18s 183ms/step - loss: 0.4845 - acc: 0.7675 - val_loss: 0.3727 - val_acc: 0.8380\n",
            "Epoch 4/30\n",
            "100/100 [==============================] - 18s 175ms/step - loss: 0.4482 - acc: 0.8005 - val_loss: 0.3583 - val_acc: 0.8490\n",
            "Epoch 5/30\n",
            "100/100 [==============================] - 18s 176ms/step - loss: 0.4334 - acc: 0.7955 - val_loss: 0.3378 - val_acc: 0.8570\n",
            "Epoch 6/30\n",
            "100/100 [==============================] - 18s 176ms/step - loss: 0.4146 - acc: 0.8225 - val_loss: 0.3195 - val_acc: 0.8460\n",
            "Epoch 7/30\n",
            "100/100 [==============================] - 19s 189ms/step - loss: 0.4006 - acc: 0.8255 - val_loss: 0.3240 - val_acc: 0.8420\n",
            "Epoch 8/30\n",
            "100/100 [==============================] - 18s 176ms/step - loss: 0.3846 - acc: 0.8235 - val_loss: 0.2998 - val_acc: 0.8610\n",
            "Epoch 9/30\n",
            "100/100 [==============================] - 18s 176ms/step - loss: 0.3865 - acc: 0.8220 - val_loss: 0.2962 - val_acc: 0.8760\n",
            "Epoch 10/30\n",
            "100/100 [==============================] - 18s 183ms/step - loss: 0.3760 - acc: 0.8300 - val_loss: 0.2977 - val_acc: 0.8760\n",
            "Epoch 11/30\n",
            "100/100 [==============================] - 18s 180ms/step - loss: 0.3741 - acc: 0.8350 - val_loss: 0.2855 - val_acc: 0.8690\n",
            "Epoch 12/30\n",
            "100/100 [==============================] - 18s 181ms/step - loss: 0.3617 - acc: 0.8525 - val_loss: 0.2800 - val_acc: 0.8680\n",
            "Epoch 13/30\n",
            "100/100 [==============================] - 18s 176ms/step - loss: 0.3646 - acc: 0.8385 - val_loss: 0.2802 - val_acc: 0.8730\n",
            "Epoch 14/30\n",
            "100/100 [==============================] - 18s 176ms/step - loss: 0.3599 - acc: 0.8415 - val_loss: 0.2939 - val_acc: 0.8770\n",
            "Epoch 15/30\n",
            "100/100 [==============================] - 18s 175ms/step - loss: 0.3502 - acc: 0.8455 - val_loss: 0.2729 - val_acc: 0.8790\n",
            "Epoch 16/30\n",
            "100/100 [==============================] - 19s 189ms/step - loss: 0.3516 - acc: 0.8510 - val_loss: 0.2730 - val_acc: 0.8780\n",
            "Epoch 17/30\n",
            "100/100 [==============================] - 18s 175ms/step - loss: 0.3538 - acc: 0.8395 - val_loss: 0.2804 - val_acc: 0.8840\n",
            "Epoch 18/30\n",
            "100/100 [==============================] - 18s 175ms/step - loss: 0.3375 - acc: 0.8480 - val_loss: 0.2841 - val_acc: 0.8740\n",
            "Epoch 19/30\n",
            "100/100 [==============================] - 19s 189ms/step - loss: 0.3541 - acc: 0.8480 - val_loss: 0.2663 - val_acc: 0.8830\n",
            "Epoch 20/30\n",
            "100/100 [==============================] - 18s 182ms/step - loss: 0.3447 - acc: 0.8510 - val_loss: 0.2634 - val_acc: 0.8830\n",
            "Epoch 21/30\n",
            "100/100 [==============================] - 18s 180ms/step - loss: 0.3297 - acc: 0.8525 - val_loss: 0.2674 - val_acc: 0.8800\n",
            "Epoch 22/30\n",
            "100/100 [==============================] - 18s 176ms/step - loss: 0.3291 - acc: 0.8540 - val_loss: 0.2763 - val_acc: 0.8820\n",
            "Epoch 23/30\n",
            "100/100 [==============================] - 18s 176ms/step - loss: 0.3308 - acc: 0.8520 - val_loss: 0.2626 - val_acc: 0.8820\n",
            "Epoch 24/30\n",
            "100/100 [==============================] - 18s 175ms/step - loss: 0.3299 - acc: 0.8605 - val_loss: 0.2606 - val_acc: 0.8780\n",
            "Epoch 25/30\n",
            "100/100 [==============================] - 19s 188ms/step - loss: 0.3322 - acc: 0.8505 - val_loss: 0.2622 - val_acc: 0.8820\n",
            "Epoch 26/30\n",
            "100/100 [==============================] - 18s 176ms/step - loss: 0.3297 - acc: 0.8535 - val_loss: 0.2656 - val_acc: 0.8830\n",
            "Epoch 27/30\n",
            "100/100 [==============================] - 18s 183ms/step - loss: 0.3231 - acc: 0.8605 - val_loss: 0.2716 - val_acc: 0.8770\n",
            "Epoch 28/30\n",
            "100/100 [==============================] - 18s 176ms/step - loss: 0.3224 - acc: 0.8495 - val_loss: 0.2644 - val_acc: 0.8890\n",
            "Epoch 29/30\n",
            "100/100 [==============================] - 18s 183ms/step - loss: 0.3326 - acc: 0.8545 - val_loss: 0.2698 - val_acc: 0.8850\n",
            "Epoch 30/30\n",
            "100/100 [==============================] - 18s 179ms/step - loss: 0.3130 - acc: 0.8695 - val_loss: 0.3052 - val_acc: 0.8670\n"
          ],
          "name": "stdout"
        }
      ]
    },
    {
      "metadata": {
        "id": "VdZcnMUzYPa5",
        "colab_type": "code",
        "colab": {
          "base_uri": "https://localhost:8080/",
          "height": 545
        },
        "outputId": "32bd2112-06c0-48e8-9a62-eb6ef29c141f"
      },
      "cell_type": "code",
      "source": [
        "%matplotlib inline\n",
        "\n",
        "import matplotlib.pyplot as plt\n",
        "\n",
        "acc = history.history['acc']\n",
        "val_acc = history.history['val_acc']\n",
        "\n",
        "loss = history.history['loss']\n",
        "val_loss = history.history['val_loss']\n",
        "\n",
        "epochs = range(1, len(acc) + 1)\n",
        "\n",
        "# training and validation accuracy\n",
        "\n",
        "plt.plot(epochs, acc, 'bo', label='training acc')\n",
        "plt.plot(epochs, val_acc, 'b', label='validation acc')\n",
        "plt.title('training and validation accuracy')\n",
        "plt.legend()\n",
        "\n",
        "plt.figure()\n",
        "\n",
        "# training and validation loss\n",
        "\n",
        "plt.plot(epochs, loss, 'bo', label='training loss')\n",
        "plt.plot(epochs, val_loss, 'b', label='validation loss')\n",
        "plt.title('training and validation loss')\n",
        "plt.legend()\n",
        "\n",
        "plt.show()"
      ],
      "execution_count": 10,
      "outputs": [
        {
          "output_type": "display_data",
          "data": {
            "image/png": "[encoded data removed]",
            "text/plain": [
              "<Figure size 432x288 with 1 Axes>"
            ]
          },
          "metadata": {
            "tags": []
          }
        },
        {
          "output_type": "display_data",
          "data": {
            "image/png": "[encoded data removed]",
            "text/plain": [
              "<Figure size 432x288 with 1 Axes>"
            ]
          },
          "metadata": {
            "tags": []
          }
        }
      ]
    },
    {
      "metadata": {
        "id": "J8fmGrkuY7Q4",
        "colab_type": "code",
        "colab": {}
      },
      "cell_type": "code",
      "source": [
        "conv_base.trainable = True\n",
        "\n",
        "set_trainable = False\n",
        "for layer in conv_base.layers:\n",
        "  if layer.name == 'block5_conv1':\n",
        "    set_trainable = True\n",
        "  if set_trainable:\n",
        "    layer.trainable = True\n",
        "  else:\n",
        "    layer.trainable = False"
      ],
      "execution_count": 0,
      "outputs": []
    },
    {
      "metadata": {
        "id": "Bqw7kofbY8Gm",
        "colab_type": "code",
        "colab": {
          "base_uri": "https://localhost:8080/",
          "height": 3484
        },
        "outputId": "bfe388b1-5906-4168-aae1-44730931330c"
      },
      "cell_type": "code",
      "source": [
        "# compile model\n",
        "\n",
        "model.compile(\n",
        "    loss='binary_crossentropy',\n",
        "    #\n",
        "    # choose a smaller learning rate\n",
        "    #\n",
        "    optimizer=optimizers.RMSprop(lr=1e-5), \n",
        "    metrics=['acc'])\n",
        "\n",
        "# train\n",
        "\n",
        "history = model.fit_generator(\n",
        "    train_generator,\n",
        "    steps_per_epoch=100,\n",
        "    epochs=100,\n",
        "    validation_data=validation_generator,\n",
        "    validation_steps=50)"
      ],
      "execution_count": 12,
      "outputs": [
        {
          "output_type": "stream",
          "text": [
            "Epoch 1/100\n",
            "100/100 [==============================] - 20s 204ms/step - loss: 0.3453 - acc: 0.8520 - val_loss: 0.2205 - val_acc: 0.9010\n",
            "Epoch 2/100\n",
            "100/100 [==============================] - 19s 194ms/step - loss: 0.2923 - acc: 0.8745 - val_loss: 0.2360 - val_acc: 0.9010\n",
            "Epoch 3/100\n",
            "100/100 [==============================] - 18s 183ms/step - loss: 0.2614 - acc: 0.8895 - val_loss: 0.2140 - val_acc: 0.9090\n",
            "Epoch 4/100\n",
            "100/100 [==============================] - 20s 198ms/step - loss: 0.2307 - acc: 0.9005 - val_loss: 0.3046 - val_acc: 0.9000\n",
            "Epoch 5/100\n",
            "100/100 [==============================] - 18s 183ms/step - loss: 0.2217 - acc: 0.9120 - val_loss: 0.2215 - val_acc: 0.9150\n",
            "Epoch 6/100\n",
            "100/100 [==============================] - 20s 196ms/step - loss: 0.1975 - acc: 0.9185 - val_loss: 0.1739 - val_acc: 0.9300\n",
            "Epoch 7/100\n",
            "100/100 [==============================] - 18s 185ms/step - loss: 0.1829 - acc: 0.9280 - val_loss: 0.2256 - val_acc: 0.9200\n",
            "Epoch 8/100\n",
            "100/100 [==============================] - 18s 183ms/step - loss: 0.1676 - acc: 0.9345 - val_loss: 0.2077 - val_acc: 0.9190\n",
            "Epoch 9/100\n",
            "100/100 [==============================] - 18s 183ms/step - loss: 0.1669 - acc: 0.9280 - val_loss: 0.2306 - val_acc: 0.9200\n",
            "Epoch 10/100\n",
            "100/100 [==============================] - 20s 196ms/step - loss: 0.1696 - acc: 0.9330 - val_loss: 0.2085 - val_acc: 0.9180\n",
            "Epoch 11/100\n",
            "100/100 [==============================] - 19s 191ms/step - loss: 0.1430 - acc: 0.9395 - val_loss: 0.1967 - val_acc: 0.9370\n",
            "Epoch 12/100\n",
            "100/100 [==============================] - 18s 184ms/step - loss: 0.1382 - acc: 0.9445 - val_loss: 0.1952 - val_acc: 0.9290\n",
            "Epoch 13/100\n",
            "100/100 [==============================] - 18s 184ms/step - loss: 0.1289 - acc: 0.9505 - val_loss: 0.1962 - val_acc: 0.9390\n",
            "Epoch 14/100\n",
            "100/100 [==============================] - 19s 190ms/step - loss: 0.1241 - acc: 0.9465 - val_loss: 0.1784 - val_acc: 0.9390\n",
            "Epoch 15/100\n",
            "100/100 [==============================] - 19s 187ms/step - loss: 0.1158 - acc: 0.9545 - val_loss: 0.2392 - val_acc: 0.9260\n",
            "Epoch 16/100\n",
            "100/100 [==============================] - 18s 183ms/step - loss: 0.1165 - acc: 0.9535 - val_loss: 0.2124 - val_acc: 0.9430\n",
            "Epoch 17/100\n",
            "100/100 [==============================] - 18s 184ms/step - loss: 0.1044 - acc: 0.9615 - val_loss: 0.1721 - val_acc: 0.9420\n",
            "Epoch 18/100\n",
            "100/100 [==============================] - 18s 184ms/step - loss: 0.1000 - acc: 0.9615 - val_loss: 0.1765 - val_acc: 0.9500\n",
            "Epoch 19/100\n",
            "100/100 [==============================] - 19s 195ms/step - loss: 0.1005 - acc: 0.9655 - val_loss: 0.1788 - val_acc: 0.9460\n",
            "Epoch 20/100\n",
            "100/100 [==============================] - 19s 187ms/step - loss: 0.0921 - acc: 0.9640 - val_loss: 0.1743 - val_acc: 0.9510\n",
            "Epoch 21/100\n",
            "100/100 [==============================] - 19s 192ms/step - loss: 0.0831 - acc: 0.9645 - val_loss: 0.3155 - val_acc: 0.9250\n",
            "Epoch 22/100\n",
            "100/100 [==============================] - 18s 184ms/step - loss: 0.0902 - acc: 0.9640 - val_loss: 0.2354 - val_acc: 0.9320\n",
            "Epoch 23/100\n",
            "100/100 [==============================] - 20s 197ms/step - loss: 0.0946 - acc: 0.9650 - val_loss: 0.2178 - val_acc: 0.9410\n",
            "Epoch 24/100\n",
            "100/100 [==============================] - 18s 184ms/step - loss: 0.0795 - acc: 0.9650 - val_loss: 0.2274 - val_acc: 0.9450\n",
            "Epoch 25/100\n",
            "100/100 [==============================] - 18s 184ms/step - loss: 0.0800 - acc: 0.9670 - val_loss: 0.2835 - val_acc: 0.9230\n",
            "Epoch 26/100\n",
            "100/100 [==============================] - 18s 185ms/step - loss: 0.0844 - acc: 0.9685 - val_loss: 0.2377 - val_acc: 0.9440\n",
            "Epoch 27/100\n",
            "100/100 [==============================] - 19s 193ms/step - loss: 0.0703 - acc: 0.9705 - val_loss: 0.2738 - val_acc: 0.9270\n",
            "Epoch 28/100\n",
            "100/100 [==============================] - 18s 184ms/step - loss: 0.0742 - acc: 0.9705 - val_loss: 0.2957 - val_acc: 0.9220\n",
            "Epoch 29/100\n",
            "100/100 [==============================] - 18s 184ms/step - loss: 0.0715 - acc: 0.9740 - val_loss: 0.3350 - val_acc: 0.9210\n",
            "Epoch 30/100\n",
            "100/100 [==============================] - 18s 183ms/step - loss: 0.0706 - acc: 0.9700 - val_loss: 0.3323 - val_acc: 0.9230\n",
            "Epoch 31/100\n",
            "100/100 [==============================] - 18s 183ms/step - loss: 0.0638 - acc: 0.9750 - val_loss: 0.2057 - val_acc: 0.9460\n",
            "Epoch 32/100\n",
            "100/100 [==============================] - 19s 194ms/step - loss: 0.0694 - acc: 0.9785 - val_loss: 0.2560 - val_acc: 0.9350\n",
            "Epoch 33/100\n",
            "100/100 [==============================] - 18s 184ms/step - loss: 0.0579 - acc: 0.9790 - val_loss: 0.1937 - val_acc: 0.9540\n",
            "Epoch 34/100\n",
            "100/100 [==============================] - 18s 184ms/step - loss: 0.0635 - acc: 0.9775 - val_loss: 0.2324 - val_acc: 0.9400\n",
            "Epoch 35/100\n",
            "100/100 [==============================] - 18s 184ms/step - loss: 0.0568 - acc: 0.9820 - val_loss: 0.2946 - val_acc: 0.9390\n",
            "Epoch 36/100\n",
            "100/100 [==============================] - 20s 197ms/step - loss: 0.0627 - acc: 0.9750 - val_loss: 0.2284 - val_acc: 0.9400\n",
            "Epoch 37/100\n",
            "100/100 [==============================] - 20s 199ms/step - loss: 0.0537 - acc: 0.9800 - val_loss: 0.3982 - val_acc: 0.9170\n",
            "Epoch 38/100\n",
            "100/100 [==============================] - 18s 184ms/step - loss: 0.0483 - acc: 0.9815 - val_loss: 0.2366 - val_acc: 0.9410\n",
            "Epoch 39/100\n",
            "100/100 [==============================] - 18s 184ms/step - loss: 0.0510 - acc: 0.9815 - val_loss: 0.2637 - val_acc: 0.9460\n",
            "Epoch 40/100\n",
            "100/100 [==============================] - 19s 195ms/step - loss: 0.0442 - acc: 0.9855 - val_loss: 0.3230 - val_acc: 0.9300\n",
            "Epoch 41/100\n",
            "100/100 [==============================] - 18s 183ms/step - loss: 0.0615 - acc: 0.9715 - val_loss: 0.1984 - val_acc: 0.9500\n",
            "Epoch 42/100\n",
            "100/100 [==============================] - 18s 184ms/step - loss: 0.0555 - acc: 0.9800 - val_loss: 0.4498 - val_acc: 0.9120\n",
            "Epoch 43/100\n",
            "100/100 [==============================] - 18s 184ms/step - loss: 0.0453 - acc: 0.9825 - val_loss: 0.2092 - val_acc: 0.9460\n",
            "Epoch 44/100\n",
            "100/100 [==============================] - 20s 195ms/step - loss: 0.0549 - acc: 0.9810 - val_loss: 0.2061 - val_acc: 0.9490\n",
            "Epoch 45/100\n",
            "100/100 [==============================] - 19s 190ms/step - loss: 0.0453 - acc: 0.9820 - val_loss: 0.4233 - val_acc: 0.9110\n",
            "Epoch 46/100\n",
            "100/100 [==============================] - 18s 184ms/step - loss: 0.0427 - acc: 0.9815 - val_loss: 0.1895 - val_acc: 0.9460\n",
            "Epoch 47/100\n",
            "100/100 [==============================] - 18s 184ms/step - loss: 0.0384 - acc: 0.9860 - val_loss: 0.2715 - val_acc: 0.9530\n",
            "Epoch 48/100\n",
            "100/100 [==============================] - 18s 184ms/step - loss: 0.0365 - acc: 0.9865 - val_loss: 0.2297 - val_acc: 0.9460\n",
            "Epoch 49/100\n",
            "100/100 [==============================] - 19s 195ms/step - loss: 0.0500 - acc: 0.9840 - val_loss: 0.2934 - val_acc: 0.9390\n",
            "Epoch 50/100\n",
            "100/100 [==============================] - 18s 184ms/step - loss: 0.0438 - acc: 0.9830 - val_loss: 0.2026 - val_acc: 0.9520\n",
            "Epoch 51/100\n",
            "100/100 [==============================] - 18s 185ms/step - loss: 0.0464 - acc: 0.9820 - val_loss: 0.2541 - val_acc: 0.9470\n",
            "Epoch 52/100\n",
            "100/100 [==============================] - 18s 184ms/step - loss: 0.0309 - acc: 0.9880 - val_loss: 0.2929 - val_acc: 0.9480\n",
            "Epoch 53/100\n",
            "100/100 [==============================] - 20s 197ms/step - loss: 0.0388 - acc: 0.9880 - val_loss: 0.2140 - val_acc: 0.9550\n",
            "Epoch 54/100\n",
            "100/100 [==============================] - 19s 194ms/step - loss: 0.0365 - acc: 0.9855 - val_loss: 0.2956 - val_acc: 0.9410\n",
            "Epoch 55/100\n",
            "100/100 [==============================] - 18s 184ms/step - loss: 0.0382 - acc: 0.9865 - val_loss: 0.2813 - val_acc: 0.9410\n",
            "Epoch 56/100\n",
            "100/100 [==============================] - 18s 184ms/step - loss: 0.0419 - acc: 0.9890 - val_loss: 0.4007 - val_acc: 0.9270\n",
            "Epoch 57/100\n",
            "100/100 [==============================] - 19s 192ms/step - loss: 0.0427 - acc: 0.9865 - val_loss: 0.2290 - val_acc: 0.9450\n",
            "Epoch 58/100\n",
            "100/100 [==============================] - 19s 186ms/step - loss: 0.0280 - acc: 0.9875 - val_loss: 0.2353 - val_acc: 0.9490\n",
            "Epoch 59/100\n",
            "100/100 [==============================] - 18s 183ms/step - loss: 0.0343 - acc: 0.9880 - val_loss: 0.3455 - val_acc: 0.9260\n",
            "Epoch 60/100\n",
            "100/100 [==============================] - 19s 192ms/step - loss: 0.0366 - acc: 0.9860 - val_loss: 0.4373 - val_acc: 0.9190\n",
            "Epoch 61/100\n",
            "100/100 [==============================] - 18s 185ms/step - loss: 0.0319 - acc: 0.9925 - val_loss: 0.2280 - val_acc: 0.9550\n",
            "Epoch 62/100\n",
            "100/100 [==============================] - 19s 192ms/step - loss: 0.0327 - acc: 0.9880 - val_loss: 0.2007 - val_acc: 0.9530\n",
            "Epoch 63/100\n",
            "100/100 [==============================] - 18s 184ms/step - loss: 0.0324 - acc: 0.9850 - val_loss: 0.2472 - val_acc: 0.9440\n",
            "Epoch 64/100\n",
            "100/100 [==============================] - 18s 185ms/step - loss: 0.0441 - acc: 0.9865 - val_loss: 0.3044 - val_acc: 0.9410\n",
            "Epoch 65/100\n",
            "100/100 [==============================] - 18s 183ms/step - loss: 0.0188 - acc: 0.9955 - val_loss: 0.3755 - val_acc: 0.9410\n",
            "Epoch 66/100\n",
            "100/100 [==============================] - 20s 196ms/step - loss: 0.0351 - acc: 0.9875 - val_loss: 0.2408 - val_acc: 0.9500\n",
            "Epoch 67/100\n",
            "100/100 [==============================] - 18s 184ms/step - loss: 0.0410 - acc: 0.9865 - val_loss: 0.2142 - val_acc: 0.9550\n",
            "Epoch 68/100\n",
            "100/100 [==============================] - 18s 184ms/step - loss: 0.0371 - acc: 0.9850 - val_loss: 0.3042 - val_acc: 0.9450\n",
            "Epoch 69/100\n",
            "100/100 [==============================] - 18s 184ms/step - loss: 0.0342 - acc: 0.9890 - val_loss: 0.2675 - val_acc: 0.9470\n",
            "Epoch 70/100\n",
            "100/100 [==============================] - 19s 194ms/step - loss: 0.0213 - acc: 0.9925 - val_loss: 0.3059 - val_acc: 0.9440\n",
            "Epoch 71/100\n",
            "100/100 [==============================] - 19s 185ms/step - loss: 0.0231 - acc: 0.9920 - val_loss: 0.6203 - val_acc: 0.9090\n",
            "Epoch 72/100\n",
            "100/100 [==============================] - 18s 184ms/step - loss: 0.0230 - acc: 0.9915 - val_loss: 0.3265 - val_acc: 0.9380\n",
            "Epoch 73/100\n",
            "100/100 [==============================] - 18s 183ms/step - loss: 0.0268 - acc: 0.9905 - val_loss: 0.2517 - val_acc: 0.9510\n",
            "Epoch 74/100\n",
            "100/100 [==============================] - 19s 187ms/step - loss: 0.0187 - acc: 0.9945 - val_loss: 0.2533 - val_acc: 0.9500\n",
            "Epoch 75/100\n",
            "100/100 [==============================] - 19s 191ms/step - loss: 0.0403 - acc: 0.9880 - val_loss: 0.2433 - val_acc: 0.9520\n",
            "Epoch 76/100\n",
            "100/100 [==============================] - 19s 190ms/step - loss: 0.0170 - acc: 0.9930 - val_loss: 0.3060 - val_acc: 0.9460\n",
            "Epoch 77/100\n",
            "100/100 [==============================] - 19s 185ms/step - loss: 0.0319 - acc: 0.9895 - val_loss: 0.4800 - val_acc: 0.9130\n",
            "Epoch 78/100\n",
            "100/100 [==============================] - 18s 184ms/step - loss: 0.0219 - acc: 0.9930 - val_loss: 0.2654 - val_acc: 0.9570\n",
            "Epoch 79/100\n",
            "100/100 [==============================] - 20s 196ms/step - loss: 0.0175 - acc: 0.9920 - val_loss: 0.2979 - val_acc: 0.9480\n",
            "Epoch 80/100\n",
            "100/100 [==============================] - 18s 184ms/step - loss: 0.0184 - acc: 0.9925 - val_loss: 0.2870 - val_acc: 0.9410\n",
            "Epoch 81/100\n",
            "100/100 [==============================] - 18s 184ms/step - loss: 0.0267 - acc: 0.9895 - val_loss: 0.3001 - val_acc: 0.9430\n",
            "Epoch 82/100\n",
            "100/100 [==============================] - 18s 183ms/step - loss: 0.0249 - acc: 0.9910 - val_loss: 0.2932 - val_acc: 0.9470\n",
            "Epoch 83/100\n",
            "100/100 [==============================] - 20s 197ms/step - loss: 0.0251 - acc: 0.9910 - val_loss: 0.3444 - val_acc: 0.9390\n",
            "Epoch 84/100\n",
            "100/100 [==============================] - 18s 185ms/step - loss: 0.0281 - acc: 0.9920 - val_loss: 0.4618 - val_acc: 0.9190\n",
            "Epoch 85/100\n",
            "100/100 [==============================] - 18s 185ms/step - loss: 0.0199 - acc: 0.9925 - val_loss: 0.3377 - val_acc: 0.9410\n",
            "Epoch 86/100\n",
            "100/100 [==============================] - 18s 184ms/step - loss: 0.0252 - acc: 0.9925 - val_loss: 0.3171 - val_acc: 0.9440\n",
            "Epoch 87/100\n",
            "100/100 [==============================] - 21s 205ms/step - loss: 0.0240 - acc: 0.9930 - val_loss: 0.2740 - val_acc: 0.9460\n",
            "Epoch 88/100\n",
            "100/100 [==============================] - 19s 187ms/step - loss: 0.0217 - acc: 0.9920 - val_loss: 0.2646 - val_acc: 0.9500\n",
            "Epoch 89/100\n",
            "100/100 [==============================] - 18s 184ms/step - loss: 0.0225 - acc: 0.9920 - val_loss: 0.3354 - val_acc: 0.9490\n",
            "Epoch 90/100\n",
            "100/100 [==============================] - 19s 186ms/step - loss: 0.0230 - acc: 0.9900 - val_loss: 0.3362 - val_acc: 0.9430\n",
            "Epoch 91/100\n",
            "100/100 [==============================] - 18s 184ms/step - loss: 0.0173 - acc: 0.9945 - val_loss: 0.3251 - val_acc: 0.9490\n",
            "Epoch 92/100\n",
            "100/100 [==============================] - 19s 195ms/step - loss: 0.0255 - acc: 0.9925 - val_loss: 0.2872 - val_acc: 0.9470\n",
            "Epoch 93/100\n",
            "100/100 [==============================] - 19s 187ms/step - loss: 0.0228 - acc: 0.9920 - val_loss: 0.2836 - val_acc: 0.9520\n",
            "Epoch 94/100\n",
            "100/100 [==============================] - 18s 183ms/step - loss: 0.0174 - acc: 0.9930 - val_loss: 0.3828 - val_acc: 0.9390\n",
            "Epoch 95/100\n",
            "100/100 [==============================] - 18s 184ms/step - loss: 0.0145 - acc: 0.9945 - val_loss: 0.3378 - val_acc: 0.9450\n",
            "Epoch 96/100\n",
            "100/100 [==============================] - 20s 196ms/step - loss: 0.0266 - acc: 0.9900 - val_loss: 0.2429 - val_acc: 0.9550\n",
            "Epoch 97/100\n",
            "100/100 [==============================] - 18s 184ms/step - loss: 0.0170 - acc: 0.9940 - val_loss: 0.3352 - val_acc: 0.9500\n",
            "Epoch 98/100\n",
            "100/100 [==============================] - 18s 184ms/step - loss: 0.0157 - acc: 0.9945 - val_loss: 0.7288 - val_acc: 0.9000\n",
            "Epoch 99/100\n",
            "100/100 [==============================] - 18s 184ms/step - loss: 0.0230 - acc: 0.9940 - val_loss: 0.2629 - val_acc: 0.9500\n",
            "Epoch 100/100\n",
            "100/100 [==============================] - 19s 193ms/step - loss: 0.0197 - acc: 0.9940 - val_loss: 0.3295 - val_acc: 0.9520\n"
          ],
          "name": "stdout"
        }
      ]
    },
    {
      "metadata": {
        "id": "lefsP9bRY-Wa",
        "colab_type": "code",
        "colab": {
          "base_uri": "https://localhost:8080/",
          "height": 545
        },
        "outputId": "5c201bff-fbb4-447d-ca30-7e455ab45413"
      },
      "cell_type": "code",
      "source": [
        "%matplotlib inline\n",
        "\n",
        "import matplotlib.pyplot as plt\n",
        "\n",
        "acc = history.history['acc']\n",
        "val_acc = history.history['val_acc']\n",
        "\n",
        "loss = history.history['loss']\n",
        "val_loss = history.history['val_loss']\n",
        "\n",
        "epochs = range(1, len(acc) + 1)\n",
        "\n",
        "# training and validation accuracy\n",
        "\n",
        "plt.plot(epochs, acc, 'bo', label='training acc')\n",
        "plt.plot(epochs, val_acc, 'b', label='validation acc')\n",
        "plt.title('training and validation accuracy')\n",
        "plt.legend()\n",
        "\n",
        "plt.figure()\n",
        "\n",
        "# training and validation loss\n",
        "\n",
        "plt.plot(epochs, loss, 'bo', label='training loss')\n",
        "plt.plot(epochs, val_loss, 'b', label='validation loss')\n",
        "plt.title('training and validation loss')\n",
        "plt.legend()\n",
        "\n",
        "plt.show()"
      ],
      "execution_count": 13,
      "outputs": [
        {
          "output_type": "display_data",
          "data": {
            "image/png": "[encoded data removed]",
            "text/plain": [
              "<Figure size 432x288 with 1 Axes>"
            ]
          },
          "metadata": {
            "tags": []
          }
        },
        {
          "output_type": "display_data",
          "data": {
            "image/png": "[encoded data removed]",
            "text/plain": [
              "<Figure size 432x288 with 1 Axes>"
            ]
          },
          "metadata": {
            "tags": []
          }
        }
      ]
    },
    {
      "metadata": {
        "id": "5Q1K8OeiZA2c",
        "colab_type": "code",
        "colab": {
          "base_uri": "https://localhost:8080/",
          "height": 72
        },
        "outputId": "1ed77c32-7687-4fbe-9460-75ee2f94554f"
      },
      "cell_type": "code",
      "source": [
        "print(\"Validation loss:\", val_loss)\n",
        "print(\"Validation accuracy:\", val_acc)"
      ],
      "execution_count": 14,
      "outputs": [
        {
          "output_type": "stream",
          "text": [
            "Validation loss: [0.22050369158387184, 0.2359611165523529, 0.21400620676577092, 0.30461827121675017, 0.22149195212870837, 0.17388402689248322, 0.22563636967912315, 0.2077264023013413, 0.2306423357501626, 0.2085253995656967, 0.19672835360746832, 0.19517741088289767, 0.19624389294534922, 0.1784163904003799, 0.2392421008553356, 0.2124387716781348, 0.17208372070919722, 0.17647915689623914, 0.17879165507853031, 0.1742817804403603, 0.3154527645400958, 0.23541183264926077, 0.21784388698637486, 0.22735411685105647, 0.2834811027813703, 0.23766509495209903, 0.27377856785431504, 0.2956949749338673, 0.3350232405262068, 0.33226669405121356, 0.20573252970818431, 0.2560091665940126, 0.19372395993908867, 0.23244470874546097, 0.29460983696393667, 0.22835228695359547, 0.3982063936721534, 0.2365792486182181, 0.26372993578435855, 0.3230276001058519, 0.19837718293259968, 0.44978888804791495, 0.20917259069392458, 0.20614431800335298, 0.4233469850782785, 0.18953480877273252, 0.27149444606591716, 0.2297442345341551, 0.29344745929149213, 0.20259911801531416, 0.2540577955493063, 0.2929146409247005, 0.21401614319268447, 0.2956061587503063, 0.2812795279370039, 0.4007373909979651, 0.22896573678357526, 0.23533437450278144, 0.3454881605261471, 0.4373475090874126, 0.22795211170632684, 0.20065018208885704, 0.2471777775901137, 0.3043789264271618, 0.37552692456085424, 0.24079405188025704, 0.21423597832183985, 0.3041517937437311, 0.267485548570985, 0.3058543441677466, 0.6202601580077317, 0.32652415110584115, 0.25166086803496, 0.25327647534906644, 0.24329807962167252, 0.30598066424600345, 0.48001534706912935, 0.26537529569159235, 0.2978531494898198, 0.28698153951903804, 0.30008502269760357, 0.2931749001763819, 0.3443631121551152, 0.4618063826521393, 0.3376537088760233, 0.31706293402041863, 0.27404243967829645, 0.2646212718181778, 0.3353515785226773, 0.3361686397991434, 0.3251083034835102, 0.2872280886294811, 0.2835749624305208, 0.38280342812987556, 0.3378406887400615, 0.24293147548023397, 0.3351507964074699, 0.7288135366773532, 0.26293429122157247, 0.3294753561910136]\n",
            "Validation accuracy: [0.9009999942779541, 0.9009999930858612, 0.9089999949932098, 0.8999999952316284, 0.9149999928474426, 0.9299999916553497, 0.9199999928474426, 0.9189999926090241, 0.9199999892711639, 0.9179999923706055, 0.9369999957084656, 0.9289999961853027, 0.9389999914169311, 0.938999993801117, 0.9259999930858612, 0.9429999923706055, 0.9419999933242797, 0.9499999916553498, 0.9459999918937683, 0.9509999895095825, 0.9249999928474426, 0.931999990940094, 0.9409999895095825, 0.9449999928474426, 0.9229999911785126, 0.9439999961853027, 0.9269999933242797, 0.9219999945163727, 0.9209999930858612, 0.9229999959468842, 0.9459999942779541, 0.9349999928474426, 0.953999992609024, 0.9399999904632569, 0.938999993801117, 0.9399999952316285, 0.9169999933242798, 0.9409999918937683, 0.9459999930858612, 0.9299999928474426, 0.9499999928474426, 0.9119999945163727, 0.9459999930858612, 0.9489999914169311, 0.9109999978542328, 0.9459999907016754, 0.9529999935626984, 0.9459999918937683, 0.9389999949932099, 0.9519999921321869, 0.946999990940094, 0.9479999935626984, 0.9549999904632568, 0.9409999930858612, 0.9409999930858612, 0.9269999933242797, 0.9449999928474426, 0.9489999914169311, 0.9259999942779541, 0.9189999926090241, 0.9549999904632568, 0.9529999947547912, 0.943999993801117, 0.9409999918937683, 0.9409999918937683, 0.9499999916553498, 0.9549999916553498, 0.9449999904632569, 0.946999990940094, 0.9439999949932099, 0.9089999926090241, 0.9379999959468841, 0.9509999930858613, 0.9499999940395355, 0.9519999933242798, 0.9459999918937683, 0.9129999911785126, 0.9569999921321869, 0.9479999923706055, 0.9409999930858612, 0.9429999923706055, 0.9469999933242798, 0.938999993801117, 0.9189999914169311, 0.9409999895095825, 0.943999993801117, 0.9459999942779541, 0.9499999928474426, 0.9489999914169311, 0.9429999935626984, 0.948999992609024, 0.9469999933242798, 0.9519999933242798, 0.9389999914169311, 0.9449999916553498, 0.9549999928474426, 0.9499999928474426, 0.8999999964237213, 0.9499999916553498, 0.9519999921321869]\n"
          ],
          "name": "stdout"
        }
      ]
    }
  ]
}