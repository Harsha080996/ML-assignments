{
  "nbformat": 4,
  "nbformat_minor": 0,
  "metadata": {
    "colab": {
      "name": "HW3.ipynb",
      "version": "0.3.2",
      "provenance": [],
      "include_colab_link": true
    },
    "kernelspec": {
      "name": "python3",
      "display_name": "Python 3"
    },
    "accelerator": "GPU"
  },
  "cells": [
    {
      "cell_type": "markdown",
      "metadata": {
        "id": "view-in-github",
        "colab_type": "text"
      },
      "source": [
        "<a href=\"https://colab.research.google.com/github/Harsha080996/ML-assignments/blob/master/HW3.ipynb\" target=\"_parent\"><img src=\"https://colab.research.google.com/assets/colab-badge.svg\" alt=\"Open In Colab\"/></a>"
      ]
    },
    {
      "metadata": {
        "id": "uyXvnBRLFhiU",
        "colab_type": "text"
      },
      "cell_type": "markdown",
      "source": [
        "**Problem 1: Feature extraction with data augmentation**"
      ]
    },
    {
      "metadata": {
        "id": "2nKB6NE6FvnL",
        "colab_type": "code",
        "colab": {
          "base_uri": "https://localhost:8080/",
          "height": 208
        },
        "outputId": "4993c9c6-a7a2-409b-e4b1-029e4d06e7b8"
      },
      "cell_type": "code",
      "source": [
        "#images for cats and dogs from google\n",
        "!wget --no-check-certificate \\\n",
        "    https://storage.googleapis.com/mledu-datasets/cats_and_dogs_filtered.zip \\\n",
        "    -O /tmp/cats_and_dogs_filtered.zip"
      ],
      "execution_count": 1,
      "outputs": [
        {
          "output_type": "stream",
          "text": [
            "--2019-04-17 02:41:09--  https://storage.googleapis.com/mledu-datasets/cats_and_dogs_filtered.zip\n",
            "Resolving storage.googleapis.com (storage.googleapis.com)... 172.217.194.128, 2404:6800:4003:c04::80\n",
            "Connecting to storage.googleapis.com (storage.googleapis.com)|172.217.194.128|:443... connected.\n",
            "HTTP request sent, awaiting response... 200 OK\n",
            "Length: 68606236 (65M) [application/zip]\n",
            "Saving to: ‘/tmp/cats_and_dogs_filtered.zip’\n",
            "\n",
            "/tmp/cats_and_dogs_ 100%[===================>]  65.43M  76.3MB/s    in 0.9s    \n",
            "\n",
            "2019-04-17 02:41:11 (76.3 MB/s) - ‘/tmp/cats_and_dogs_filtered.zip’ saved [68606236/68606236]\n",
            "\n"
          ],
          "name": "stdout"
        }
      ]
    },
    {
      "metadata": {
        "id": "1k4TMG4uWpoA",
        "colab_type": "code",
        "colab": {}
      },
      "cell_type": "code",
      "source": [
        "import os\n",
        "import zipfile\n",
        "\n",
        "local_zip = '/tmp/cats_and_dogs_filtered.zip'\n",
        "zip_ref = zipfile.ZipFile(local_zip, 'r')\n",
        "zip_ref.extractall('/tmp')\n",
        "zip_ref.close()"
      ],
      "execution_count": 0,
      "outputs": []
    },
    {
      "metadata": {
        "id": "DU8oIkpaWwGc",
        "colab_type": "code",
        "colab": {}
      },
      "cell_type": "code",
      "source": [
        "base_dir = '/tmp/cats_and_dogs_filtered'\n",
        "train_dir = os.path.join(base_dir, 'train')\n",
        "validation_dir = os.path.join(base_dir, 'validation')\n",
        "\n",
        "# Directory with our training cat pictures\n",
        "train_cats_dir = os.path.join(train_dir, 'cats')\n",
        "\n",
        "# Directory with our training dog pictures\n",
        "train_dogs_dir = os.path.join(train_dir, 'dogs')\n",
        "\n",
        "# Directory with our validation cat pictures\n",
        "validation_cats_dir = os.path.join(validation_dir, 'cats')\n",
        "\n",
        "# Directory with our validation dog pictures\n",
        "validation_dogs_dir = os.path.join(validation_dir, 'dogs')"
      ],
      "execution_count": 0,
      "outputs": []
    },
    {
      "metadata": {
        "id": "_2rI6-SOW2ta",
        "colab_type": "code",
        "outputId": "72f0d935-d436-4f36-c278-87c8199f446b",
        "colab": {
          "base_uri": "https://localhost:8080/",
          "height": 141
        }
      },
      "cell_type": "code",
      "source": [
        "from keras.applications import VGG19 #Downloading VGG19\n",
        "\n",
        "conv_base = VGG19(\n",
        "    weights='imagenet', \n",
        "    include_top=False, \n",
        "    input_shape=(150, 150, 3))"
      ],
      "execution_count": 4,
      "outputs": [
        {
          "output_type": "stream",
          "text": [
            "Using TensorFlow backend.\n"
          ],
          "name": "stderr"
        },
        {
          "output_type": "stream",
          "text": [
            "WARNING:tensorflow:From /usr/local/lib/python3.6/dist-packages/tensorflow/python/framework/op_def_library.py:263: colocate_with (from tensorflow.python.framework.ops) is deprecated and will be removed in a future version.\n",
            "Instructions for updating:\n",
            "Colocations handled automatically by placer.\n",
            "Downloading data from https://github.com/fchollet/deep-learning-models/releases/download/v0.1/vgg19_weights_tf_dim_ordering_tf_kernels_notop.h5\n",
            "80142336/80134624 [==============================] - 7s 0us/step\n"
          ],
          "name": "stdout"
        }
      ]
    },
    {
      "metadata": {
        "id": "YRB4-JgGW9Eg",
        "colab_type": "code",
        "colab": {
          "base_uri": "https://localhost:8080/",
          "height": 901
        },
        "outputId": "4b081395-7fd6-421b-8844-8fecd1f4adcd"
      },
      "cell_type": "code",
      "source": [
        "conv_base.summary() "
      ],
      "execution_count": 5,
      "outputs": [
        {
          "output_type": "stream",
          "text": [
            "_________________________________________________________________\n",
            "Layer (type)                 Output Shape              Param #   \n",
            "=================================================================\n",
            "input_1 (InputLayer)         (None, 150, 150, 3)       0         \n",
            "_________________________________________________________________\n",
            "block1_conv1 (Conv2D)        (None, 150, 150, 64)      1792      \n",
            "_________________________________________________________________\n",
            "block1_conv2 (Conv2D)        (None, 150, 150, 64)      36928     \n",
            "_________________________________________________________________\n",
            "block1_pool (MaxPooling2D)   (None, 75, 75, 64)        0         \n",
            "_________________________________________________________________\n",
            "block2_conv1 (Conv2D)        (None, 75, 75, 128)       73856     \n",
            "_________________________________________________________________\n",
            "block2_conv2 (Conv2D)        (None, 75, 75, 128)       147584    \n",
            "_________________________________________________________________\n",
            "block2_pool (MaxPooling2D)   (None, 37, 37, 128)       0         \n",
            "_________________________________________________________________\n",
            "block3_conv1 (Conv2D)        (None, 37, 37, 256)       295168    \n",
            "_________________________________________________________________\n",
            "block3_conv2 (Conv2D)        (None, 37, 37, 256)       590080    \n",
            "_________________________________________________________________\n",
            "block3_conv3 (Conv2D)        (None, 37, 37, 256)       590080    \n",
            "_________________________________________________________________\n",
            "block3_conv4 (Conv2D)        (None, 37, 37, 256)       590080    \n",
            "_________________________________________________________________\n",
            "block3_pool (MaxPooling2D)   (None, 18, 18, 256)       0         \n",
            "_________________________________________________________________\n",
            "block4_conv1 (Conv2D)        (None, 18, 18, 512)       1180160   \n",
            "_________________________________________________________________\n",
            "block4_conv2 (Conv2D)        (None, 18, 18, 512)       2359808   \n",
            "_________________________________________________________________\n",
            "block4_conv3 (Conv2D)        (None, 18, 18, 512)       2359808   \n",
            "_________________________________________________________________\n",
            "block4_conv4 (Conv2D)        (None, 18, 18, 512)       2359808   \n",
            "_________________________________________________________________\n",
            "block4_pool (MaxPooling2D)   (None, 9, 9, 512)         0         \n",
            "_________________________________________________________________\n",
            "block5_conv1 (Conv2D)        (None, 9, 9, 512)         2359808   \n",
            "_________________________________________________________________\n",
            "block5_conv2 (Conv2D)        (None, 9, 9, 512)         2359808   \n",
            "_________________________________________________________________\n",
            "block5_conv3 (Conv2D)        (None, 9, 9, 512)         2359808   \n",
            "_________________________________________________________________\n",
            "block5_conv4 (Conv2D)        (None, 9, 9, 512)         2359808   \n",
            "_________________________________________________________________\n",
            "block5_pool (MaxPooling2D)   (None, 4, 4, 512)         0         \n",
            "=================================================================\n",
            "Total params: 20,024,384\n",
            "Trainable params: 20,024,384\n",
            "Non-trainable params: 0\n",
            "_________________________________________________________________\n"
          ],
          "name": "stdout"
        }
      ]
    },
    {
      "metadata": {
        "id": "DStQGrHsHVlz",
        "colab_type": "text"
      },
      "cell_type": "markdown",
      "source": [
        "**Freezing the convulutional base**"
      ]
    },
    {
      "metadata": {
        "id": "ZA3ZtH4aGsWD",
        "colab_type": "code",
        "colab": {}
      },
      "cell_type": "code",
      "source": [
        "conv_base.trainable = False  "
      ],
      "execution_count": 0,
      "outputs": []
    },
    {
      "metadata": {
        "id": "M7TmHRuzKJQM",
        "colab_type": "code",
        "colab": {
          "base_uri": "https://localhost:8080/",
          "height": 35
        },
        "outputId": "b18bbd3a-0c42-49bf-b300-33f0a642c46e"
      },
      "cell_type": "code",
      "source": [
        "#Extracting features from last layer in VGG19\n",
        "for last_layer in conv_base.layers:\n",
        "  last_layer.trainable = False\n",
        "  \n",
        "new_layer = conv_base.get_layer('block5_pool')\n",
        "print('output shape of last layer is', new_layer.output_shape)\n",
        "new_output = new_layer.output"
      ],
      "execution_count": 7,
      "outputs": [
        {
          "output_type": "stream",
          "text": [
            "output shape of last layer is (None, 4, 4, 512)\n"
          ],
          "name": "stdout"
        }
      ]
    },
    {
      "metadata": {
        "id": "F0pUX5NXHWi-",
        "colab_type": "text"
      },
      "cell_type": "markdown",
      "source": [
        "**Concatenate the convolutional base and densely connected layers**"
      ]
    },
    {
      "metadata": {
        "id": "XuTy1hHYXCsX",
        "colab_type": "code",
        "colab": {}
      },
      "cell_type": "code",
      "source": [
        "from keras import layers\n",
        "from keras import models\n",
        "from keras import optimizers\n",
        "\n",
        "model = models.Sequential()\n",
        "model.add(conv_base)\n",
        "model.add(layers.Flatten())\n",
        "model.add(layers.Dense(256, activation='relu'))\n",
        "#no dropout\n",
        "model.add(layers.Dense(1, activation='sigmoid'))"
      ],
      "execution_count": 0,
      "outputs": []
    },
    {
      "metadata": {
        "id": "s5k5bw0EXEVA",
        "colab_type": "code",
        "outputId": "85f8210e-1fc4-4d10-c46d-447dd2cfd8a2",
        "colab": {
          "base_uri": "https://localhost:8080/",
          "height": 277
        }
      },
      "cell_type": "code",
      "source": [
        "model.summary()"
      ],
      "execution_count": 9,
      "outputs": [
        {
          "output_type": "stream",
          "text": [
            "_________________________________________________________________\n",
            "Layer (type)                 Output Shape              Param #   \n",
            "=================================================================\n",
            "vgg19 (Model)                (None, 4, 4, 512)         20024384  \n",
            "_________________________________________________________________\n",
            "flatten_1 (Flatten)          (None, 8192)              0         \n",
            "_________________________________________________________________\n",
            "dense_1 (Dense)              (None, 256)               2097408   \n",
            "_________________________________________________________________\n",
            "dense_2 (Dense)              (None, 1)                 257       \n",
            "=================================================================\n",
            "Total params: 22,122,049\n",
            "Trainable params: 2,097,665\n",
            "Non-trainable params: 20,024,384\n",
            "_________________________________________________________________\n"
          ],
          "name": "stdout"
        }
      ]
    },
    {
      "metadata": {
        "id": "kdpT_N1YHx9N",
        "colab_type": "text"
      },
      "cell_type": "markdown",
      "source": [
        "**Train the model end to end with frozen convolutional base**"
      ]
    },
    {
      "metadata": {
        "id": "ffCAi_DEXKbC",
        "colab_type": "code",
        "outputId": "71d1c299-b7d3-4e6a-f6ad-eed973c6dbc3",
        "colab": {
          "base_uri": "https://localhost:8080/",
          "height": 1164
        }
      },
      "cell_type": "code",
      "source": [
        "from keras.preprocessing.image import ImageDataGenerator\n",
        "from keras import optimizers\n",
        "\n",
        "# data augmentation\n",
        "\n",
        "train_datagen = ImageDataGenerator(\n",
        "    rescale=1./255, \n",
        "    rotation_range=40,\n",
        "    width_shift_range=0.2,\n",
        "    height_shift_range=0.2,\n",
        "    shear_range=0.2,\n",
        "    zoom_range=0.2,\n",
        "    horizontal_flip=True,\n",
        "    fill_mode='nearest'\n",
        ")\n",
        "\n",
        "train_generator = train_datagen.flow_from_directory(\n",
        "    train_dir,\n",
        "    target_size=(150, 150),\n",
        "    batch_size=20,\n",
        "    class_mode='binary')\n",
        "\n",
        "validation_datagen = ImageDataGenerator(rescale=1./255)\n",
        "\n",
        "validation_generator = validation_datagen.flow_from_directory(\n",
        "    validation_dir,\n",
        "    target_size=(150, 150),\n",
        "    batch_size=20,\n",
        "    class_mode='binary')\n",
        "\n",
        "# compile model\n",
        "\n",
        "model.compile(\n",
        "    loss='binary_crossentropy', \n",
        "    optimizer=optimizers.RMSprop(lr=2e-5), \n",
        "    metrics=['acc'])\n",
        "\n",
        "# train\n",
        "\n",
        "history = model.fit_generator(\n",
        "    train_generator,\n",
        "    steps_per_epoch=100,\n",
        "    epochs=30,\n",
        "    validation_data=validation_generator,\n",
        "    validation_steps=50\n",
        ")"
      ],
      "execution_count": 10,
      "outputs": [
        {
          "output_type": "stream",
          "text": [
            "Found 2000 images belonging to 2 classes.\n",
            "Found 1000 images belonging to 2 classes.\n",
            "WARNING:tensorflow:From /usr/local/lib/python3.6/dist-packages/tensorflow/python/ops/math_ops.py:3066: to_int32 (from tensorflow.python.ops.math_ops) is deprecated and will be removed in a future version.\n",
            "Instructions for updating:\n",
            "Use tf.cast instead.\n",
            "Epoch 1/30\n",
            "100/100 [==============================] - 23s 229ms/step - loss: 0.6127 - acc: 0.6640 - val_loss: 0.4986 - val_acc: 0.7750\n",
            "Epoch 2/30\n",
            "100/100 [==============================] - 18s 179ms/step - loss: 0.5199 - acc: 0.7585 - val_loss: 0.4190 - val_acc: 0.8150\n",
            "Epoch 3/30\n",
            "100/100 [==============================] - 19s 193ms/step - loss: 0.4721 - acc: 0.7790 - val_loss: 0.3719 - val_acc: 0.8410\n",
            "Epoch 4/30\n",
            "100/100 [==============================] - 18s 182ms/step - loss: 0.4445 - acc: 0.8030 - val_loss: 0.3507 - val_acc: 0.8540\n",
            "Epoch 5/30\n",
            "100/100 [==============================] - 18s 177ms/step - loss: 0.4283 - acc: 0.8080 - val_loss: 0.3379 - val_acc: 0.8590\n",
            "Epoch 6/30\n",
            "100/100 [==============================] - 18s 184ms/step - loss: 0.4125 - acc: 0.8165 - val_loss: 0.3175 - val_acc: 0.8530\n",
            "Epoch 7/30\n",
            "100/100 [==============================] - 19s 192ms/step - loss: 0.3853 - acc: 0.8355 - val_loss: 0.3160 - val_acc: 0.8480\n",
            "Epoch 8/30\n",
            "100/100 [==============================] - 18s 179ms/step - loss: 0.3919 - acc: 0.8285 - val_loss: 0.3019 - val_acc: 0.8640\n",
            "Epoch 9/30\n",
            "100/100 [==============================] - 18s 179ms/step - loss: 0.3790 - acc: 0.8330 - val_loss: 0.3097 - val_acc: 0.8650\n",
            "Epoch 10/30\n",
            "100/100 [==============================] - 18s 177ms/step - loss: 0.3788 - acc: 0.8330 - val_loss: 0.2980 - val_acc: 0.8650\n",
            "Epoch 11/30\n",
            "100/100 [==============================] - 18s 184ms/step - loss: 0.3732 - acc: 0.8340 - val_loss: 0.2868 - val_acc: 0.8740\n",
            "Epoch 12/30\n",
            "100/100 [==============================] - 18s 181ms/step - loss: 0.3608 - acc: 0.8345 - val_loss: 0.2857 - val_acc: 0.8780\n",
            "Epoch 13/30\n",
            "100/100 [==============================] - 18s 178ms/step - loss: 0.3549 - acc: 0.8425 - val_loss: 0.2891 - val_acc: 0.8810\n",
            "Epoch 14/30\n",
            "100/100 [==============================] - 18s 178ms/step - loss: 0.3565 - acc: 0.8345 - val_loss: 0.2888 - val_acc: 0.8730\n",
            "Epoch 15/30\n",
            "100/100 [==============================] - 18s 178ms/step - loss: 0.3617 - acc: 0.8445 - val_loss: 0.2846 - val_acc: 0.8820\n",
            "Epoch 16/30\n",
            "100/100 [==============================] - 19s 192ms/step - loss: 0.3586 - acc: 0.8410 - val_loss: 0.2941 - val_acc: 0.8820\n",
            "Epoch 17/30\n",
            "100/100 [==============================] - 18s 179ms/step - loss: 0.3449 - acc: 0.8415 - val_loss: 0.2700 - val_acc: 0.8840\n",
            "Epoch 18/30\n",
            "100/100 [==============================] - 18s 179ms/step - loss: 0.3426 - acc: 0.8440 - val_loss: 0.2770 - val_acc: 0.8830\n",
            "Epoch 19/30\n",
            "100/100 [==============================] - 18s 178ms/step - loss: 0.3555 - acc: 0.8515 - val_loss: 0.2684 - val_acc: 0.8830\n",
            "Epoch 20/30\n",
            "100/100 [==============================] - 19s 187ms/step - loss: 0.3322 - acc: 0.8525 - val_loss: 0.2840 - val_acc: 0.8740\n",
            "Epoch 21/30\n",
            "100/100 [==============================] - 18s 184ms/step - loss: 0.3436 - acc: 0.8460 - val_loss: 0.2620 - val_acc: 0.8890\n",
            "Epoch 22/30\n",
            "100/100 [==============================] - 18s 177ms/step - loss: 0.3398 - acc: 0.8480 - val_loss: 0.2745 - val_acc: 0.8810\n",
            "Epoch 23/30\n",
            "100/100 [==============================] - 18s 184ms/step - loss: 0.3285 - acc: 0.8675 - val_loss: 0.2794 - val_acc: 0.8780\n",
            "Epoch 24/30\n",
            "100/100 [==============================] - 18s 177ms/step - loss: 0.3333 - acc: 0.8505 - val_loss: 0.2607 - val_acc: 0.8830\n",
            "Epoch 25/30\n",
            "100/100 [==============================] - 19s 187ms/step - loss: 0.3208 - acc: 0.8620 - val_loss: 0.2577 - val_acc: 0.8860\n",
            "Epoch 26/30\n",
            "100/100 [==============================] - 18s 177ms/step - loss: 0.3160 - acc: 0.8660 - val_loss: 0.2650 - val_acc: 0.8860\n",
            "Epoch 27/30\n",
            "100/100 [==============================] - 18s 177ms/step - loss: 0.3176 - acc: 0.8550 - val_loss: 0.2566 - val_acc: 0.8870\n",
            "Epoch 28/30\n",
            "100/100 [==============================] - 18s 177ms/step - loss: 0.3298 - acc: 0.8585 - val_loss: 0.2794 - val_acc: 0.8770\n",
            "Epoch 29/30\n",
            "100/100 [==============================] - 19s 187ms/step - loss: 0.3229 - acc: 0.8505 - val_loss: 0.2782 - val_acc: 0.8810\n",
            "Epoch 30/30\n",
            "100/100 [==============================] - 18s 177ms/step - loss: 0.3278 - acc: 0.8525 - val_loss: 0.2710 - val_acc: 0.8820\n"
          ],
          "name": "stdout"
        }
      ]
    },
    {
      "metadata": {
        "id": "Ix3npE90IC-U",
        "colab_type": "text"
      },
      "cell_type": "markdown",
      "source": [
        "**Display curves of loss and accuracy during training**"
      ]
    },
    {
      "metadata": {
        "id": "VdZcnMUzYPa5",
        "colab_type": "code",
        "outputId": "32b871c9-50e6-4573-97b3-e5cffe8641c4",
        "colab": {
          "base_uri": "https://localhost:8080/",
          "height": 545
        }
      },
      "cell_type": "code",
      "source": [
        "%matplotlib inline\n",
        "\n",
        "import matplotlib.pyplot as plt\n",
        "\n",
        "acc = history.history['acc']\n",
        "val_acc = history.history['val_acc']\n",
        "\n",
        "loss = history.history['loss']\n",
        "val_loss = history.history['val_loss']\n",
        "\n",
        "epochs = range(1, len(acc) + 1)\n",
        "\n",
        "# training and validation accuracy\n",
        "\n",
        "plt.plot(epochs, acc, 'bo', label='training acc')\n",
        "plt.plot(epochs, val_acc, 'b', label='validation acc')\n",
        "plt.title('training and validation accuracy')\n",
        "plt.legend()\n",
        "\n",
        "plt.figure()\n",
        "\n",
        "# training and validation loss\n",
        "\n",
        "plt.plot(epochs, loss, 'bo', label='training loss')\n",
        "plt.plot(epochs, val_loss, 'b', label='validation loss')\n",
        "plt.title('training and validation loss')\n",
        "plt.legend()\n",
        "\n",
        "plt.show()"
      ],
      "execution_count": 11,
      "outputs": [
        {
          "output_type": "display_data",
          "data": {
            "image/png": "[encoded data removed]",
            "text/plain": [
              "<Figure size 432x288 with 1 Axes>"
            ]
          },
          "metadata": {
            "tags": []
          }
        },
        {
          "output_type": "display_data",
          "data": {
            "image/png": "[encoded data removed]",
            "text/plain": [
              "<Figure size 432x288 with 1 Axes>"
            ]
          },
          "metadata": {
            "tags": []
          }
        }
      ]
    },
    {
      "metadata": {
        "id": "5Q5zx_0zJDwz",
        "colab_type": "text"
      },
      "cell_type": "markdown",
      "source": [
        "**Problem 2: Fine tuning with data augmentation**"
      ]
    },
    {
      "metadata": {
        "id": "J8fmGrkuY7Q4",
        "colab_type": "code",
        "colab": {}
      },
      "cell_type": "code",
      "source": [
        "conv_base.trainable = True\n",
        "\n",
        "set_trainable = False\n",
        "for layer in conv_base.layers:\n",
        "  if layer.name == 'block5_conv1':\n",
        "    set_trainable = True\n",
        "  if set_trainable:\n",
        "    layer.trainable = True\n",
        "  else:\n",
        "    layer.trainable = False"
      ],
      "execution_count": 0,
      "outputs": []
    },
    {
      "metadata": {
        "id": "yUZhfkgdIj8M",
        "colab_type": "text"
      },
      "cell_type": "markdown",
      "source": [
        "**Training with smaller learning rate**"
      ]
    },
    {
      "metadata": {
        "id": "Bqw7kofbY8Gm",
        "colab_type": "code",
        "outputId": "8ded571e-03a2-44db-e936-8a1d83968ac2",
        "colab": {
          "base_uri": "https://localhost:8080/",
          "height": 3744
        }
      },
      "cell_type": "code",
      "source": [
        "# compile model\n",
        "\n",
        "model.compile(\n",
        "    loss='binary_crossentropy',\n",
        "    #\n",
        "    # choose a smaller learning rate\n",
        "    #\n",
        "    optimizer=optimizers.RMSprop(lr=1e-5), \n",
        "    metrics=['acc'])\n",
        "model.summary()\n",
        "\n",
        "# train\n",
        "\n",
        "history = model.fit_generator(\n",
        "    train_generator,\n",
        "    steps_per_epoch=100,\n",
        "    epochs=100,\n",
        "    validation_data=validation_generator,\n",
        "    validation_steps=50)"
      ],
      "execution_count": 13,
      "outputs": [
        {
          "output_type": "stream",
          "text": [
            "_________________________________________________________________\n",
            "Layer (type)                 Output Shape              Param #   \n",
            "=================================================================\n",
            "vgg19 (Model)                (None, 4, 4, 512)         20024384  \n",
            "_________________________________________________________________\n",
            "flatten_1 (Flatten)          (None, 8192)              0         \n",
            "_________________________________________________________________\n",
            "dense_1 (Dense)              (None, 256)               2097408   \n",
            "_________________________________________________________________\n",
            "dense_2 (Dense)              (None, 1)                 257       \n",
            "=================================================================\n",
            "Total params: 22,122,049\n",
            "Trainable params: 11,536,897\n",
            "Non-trainable params: 10,585,152\n",
            "_________________________________________________________________\n",
            "Epoch 1/100\n",
            "100/100 [==============================] - 21s 208ms/step - loss: 0.3309 - acc: 0.8475 - val_loss: 0.2801 - val_acc: 0.8860\n",
            "Epoch 2/100\n",
            "100/100 [==============================] - 19s 186ms/step - loss: 0.2735 - acc: 0.8800 - val_loss: 0.2624 - val_acc: 0.8970\n",
            "Epoch 3/100\n",
            "100/100 [==============================] - 19s 193ms/step - loss: 0.2542 - acc: 0.8915 - val_loss: 0.1887 - val_acc: 0.9260\n",
            "Epoch 4/100\n",
            "100/100 [==============================] - 19s 188ms/step - loss: 0.2421 - acc: 0.8990 - val_loss: 0.2760 - val_acc: 0.8990\n",
            "Epoch 5/100\n",
            "100/100 [==============================] - 19s 187ms/step - loss: 0.2272 - acc: 0.9050 - val_loss: 0.2022 - val_acc: 0.9230\n",
            "Epoch 6/100\n",
            "100/100 [==============================] - 19s 187ms/step - loss: 0.2083 - acc: 0.9130 - val_loss: 0.4246 - val_acc: 0.8740\n",
            "Epoch 7/100\n",
            "100/100 [==============================] - 20s 198ms/step - loss: 0.1873 - acc: 0.9250 - val_loss: 0.1793 - val_acc: 0.9340\n",
            "Epoch 8/100\n",
            "100/100 [==============================] - 19s 194ms/step - loss: 0.1733 - acc: 0.9290 - val_loss: 0.2707 - val_acc: 0.9210\n",
            "Epoch 9/100\n",
            "100/100 [==============================] - 19s 190ms/step - loss: 0.1807 - acc: 0.9285 - val_loss: 0.1702 - val_acc: 0.9240\n",
            "Epoch 10/100\n",
            "100/100 [==============================] - 19s 189ms/step - loss: 0.1704 - acc: 0.9300 - val_loss: 0.1758 - val_acc: 0.9350\n",
            "Epoch 11/100\n",
            "100/100 [==============================] - 19s 186ms/step - loss: 0.1563 - acc: 0.9420 - val_loss: 0.1412 - val_acc: 0.9450\n",
            "Epoch 12/100\n",
            "100/100 [==============================] - 20s 199ms/step - loss: 0.1474 - acc: 0.9360 - val_loss: 0.2628 - val_acc: 0.9240\n",
            "Epoch 13/100\n",
            "100/100 [==============================] - 19s 186ms/step - loss: 0.1382 - acc: 0.9450 - val_loss: 0.2466 - val_acc: 0.9150\n",
            "Epoch 14/100\n",
            "100/100 [==============================] - 19s 186ms/step - loss: 0.1190 - acc: 0.9580 - val_loss: 0.2038 - val_acc: 0.9250\n",
            "Epoch 15/100\n",
            "100/100 [==============================] - 18s 185ms/step - loss: 0.1205 - acc: 0.9520 - val_loss: 0.1485 - val_acc: 0.9490\n",
            "Epoch 16/100\n",
            "100/100 [==============================] - 20s 198ms/step - loss: 0.1178 - acc: 0.9540 - val_loss: 0.2345 - val_acc: 0.9230\n",
            "Epoch 17/100\n",
            "100/100 [==============================] - 18s 184ms/step - loss: 0.1132 - acc: 0.9565 - val_loss: 0.1851 - val_acc: 0.9560\n",
            "Epoch 18/100\n",
            "100/100 [==============================] - 19s 185ms/step - loss: 0.1063 - acc: 0.9640 - val_loss: 0.1822 - val_acc: 0.9450\n",
            "Epoch 19/100\n",
            "100/100 [==============================] - 18s 184ms/step - loss: 0.1075 - acc: 0.9525 - val_loss: 0.1713 - val_acc: 0.9430\n",
            "Epoch 20/100\n",
            "100/100 [==============================] - 19s 191ms/step - loss: 0.1012 - acc: 0.9590 - val_loss: 0.2117 - val_acc: 0.9300\n",
            "Epoch 21/100\n",
            "100/100 [==============================] - 19s 186ms/step - loss: 0.0938 - acc: 0.9625 - val_loss: 0.2320 - val_acc: 0.9280\n",
            "Epoch 22/100\n",
            "100/100 [==============================] - 18s 184ms/step - loss: 0.0862 - acc: 0.9690 - val_loss: 0.2224 - val_acc: 0.9390\n",
            "Epoch 23/100\n",
            "100/100 [==============================] - 18s 184ms/step - loss: 0.0986 - acc: 0.9660 - val_loss: 0.1605 - val_acc: 0.9460\n",
            "Epoch 24/100\n",
            "100/100 [==============================] - 20s 195ms/step - loss: 0.0751 - acc: 0.9730 - val_loss: 0.1707 - val_acc: 0.9580\n",
            "Epoch 25/100\n",
            "100/100 [==============================] - 19s 193ms/step - loss: 0.0852 - acc: 0.9630 - val_loss: 0.2665 - val_acc: 0.9280\n",
            "Epoch 26/100\n",
            "100/100 [==============================] - 19s 188ms/step - loss: 0.0789 - acc: 0.9695 - val_loss: 0.1782 - val_acc: 0.9490\n",
            "Epoch 27/100\n",
            "100/100 [==============================] - 19s 186ms/step - loss: 0.0780 - acc: 0.9685 - val_loss: 0.4028 - val_acc: 0.9110\n",
            "Epoch 28/100\n",
            "100/100 [==============================] - 19s 186ms/step - loss: 0.0818 - acc: 0.9665 - val_loss: 0.1674 - val_acc: 0.9530\n",
            "Epoch 29/100\n",
            "100/100 [==============================] - 20s 199ms/step - loss: 0.0636 - acc: 0.9795 - val_loss: 0.2588 - val_acc: 0.9390\n",
            "Epoch 30/100\n",
            "100/100 [==============================] - 19s 186ms/step - loss: 0.0585 - acc: 0.9770 - val_loss: 0.1958 - val_acc: 0.9490\n",
            "Epoch 31/100\n",
            "100/100 [==============================] - 19s 186ms/step - loss: 0.0753 - acc: 0.9710 - val_loss: 0.2019 - val_acc: 0.9450\n",
            "Epoch 32/100\n",
            "100/100 [==============================] - 19s 185ms/step - loss: 0.0551 - acc: 0.9755 - val_loss: 0.3120 - val_acc: 0.9180\n",
            "Epoch 33/100\n",
            "100/100 [==============================] - 20s 200ms/step - loss: 0.0586 - acc: 0.9785 - val_loss: 0.2396 - val_acc: 0.9480\n",
            "Epoch 34/100\n",
            "100/100 [==============================] - 19s 188ms/step - loss: 0.0605 - acc: 0.9785 - val_loss: 0.2051 - val_acc: 0.9450\n",
            "Epoch 35/100\n",
            "100/100 [==============================] - 19s 187ms/step - loss: 0.0627 - acc: 0.9780 - val_loss: 0.2492 - val_acc: 0.9390\n",
            "Epoch 36/100\n",
            "100/100 [==============================] - 19s 186ms/step - loss: 0.0539 - acc: 0.9800 - val_loss: 0.2384 - val_acc: 0.9450\n",
            "Epoch 37/100\n",
            "100/100 [==============================] - 19s 193ms/step - loss: 0.0622 - acc: 0.9785 - val_loss: 0.2470 - val_acc: 0.9420\n",
            "Epoch 38/100\n",
            "100/100 [==============================] - 19s 188ms/step - loss: 0.0627 - acc: 0.9760 - val_loss: 0.3012 - val_acc: 0.9140\n",
            "Epoch 39/100\n",
            "100/100 [==============================] - 19s 187ms/step - loss: 0.0489 - acc: 0.9800 - val_loss: 0.2311 - val_acc: 0.9480\n",
            "Epoch 40/100\n",
            "100/100 [==============================] - 20s 202ms/step - loss: 0.0615 - acc: 0.9795 - val_loss: 0.3716 - val_acc: 0.9180\n",
            "Epoch 41/100\n",
            "100/100 [==============================] - 19s 190ms/step - loss: 0.0450 - acc: 0.9825 - val_loss: 0.2102 - val_acc: 0.9490\n",
            "Epoch 42/100\n",
            "100/100 [==============================] - 19s 193ms/step - loss: 0.0620 - acc: 0.9760 - val_loss: 0.2009 - val_acc: 0.9430\n",
            "Epoch 43/100\n",
            "100/100 [==============================] - 18s 184ms/step - loss: 0.0413 - acc: 0.9880 - val_loss: 0.2168 - val_acc: 0.9500\n",
            "Epoch 44/100\n",
            "100/100 [==============================] - 18s 184ms/step - loss: 0.0521 - acc: 0.9815 - val_loss: 0.1998 - val_acc: 0.9520\n",
            "Epoch 45/100\n",
            "100/100 [==============================] - 18s 184ms/step - loss: 0.0372 - acc: 0.9840 - val_loss: 0.2159 - val_acc: 0.9460\n",
            "Epoch 46/100\n",
            "100/100 [==============================] - 20s 198ms/step - loss: 0.0408 - acc: 0.9830 - val_loss: 0.2896 - val_acc: 0.9440\n",
            "Epoch 47/100\n",
            "100/100 [==============================] - 19s 186ms/step - loss: 0.0529 - acc: 0.9830 - val_loss: 0.1968 - val_acc: 0.9470\n",
            "Epoch 48/100\n",
            "100/100 [==============================] - 19s 186ms/step - loss: 0.0322 - acc: 0.9900 - val_loss: 0.2454 - val_acc: 0.9520\n",
            "Epoch 49/100\n",
            "100/100 [==============================] - 19s 186ms/step - loss: 0.0417 - acc: 0.9850 - val_loss: 0.2864 - val_acc: 0.9290\n",
            "Epoch 50/100\n",
            "100/100 [==============================] - 20s 199ms/step - loss: 0.0372 - acc: 0.9845 - val_loss: 0.3964 - val_acc: 0.9350\n",
            "Epoch 51/100\n",
            "100/100 [==============================] - 19s 185ms/step - loss: 0.0497 - acc: 0.9830 - val_loss: 0.2383 - val_acc: 0.9460\n",
            "Epoch 52/100\n",
            "100/100 [==============================] - 19s 185ms/step - loss: 0.0361 - acc: 0.9865 - val_loss: 0.2485 - val_acc: 0.9400\n",
            "Epoch 53/100\n",
            "100/100 [==============================] - 18s 185ms/step - loss: 0.0339 - acc: 0.9855 - val_loss: 0.2611 - val_acc: 0.9490\n",
            "Epoch 54/100\n",
            "100/100 [==============================] - 19s 192ms/step - loss: 0.0325 - acc: 0.9895 - val_loss: 0.2357 - val_acc: 0.9540\n",
            "Epoch 55/100\n",
            "100/100 [==============================] - 19s 187ms/step - loss: 0.0433 - acc: 0.9865 - val_loss: 0.2531 - val_acc: 0.9460\n",
            "Epoch 56/100\n",
            "100/100 [==============================] - 19s 191ms/step - loss: 0.0326 - acc: 0.9885 - val_loss: 0.2660 - val_acc: 0.9390\n",
            "Epoch 57/100\n",
            "100/100 [==============================] - 19s 194ms/step - loss: 0.0378 - acc: 0.9895 - val_loss: 0.3263 - val_acc: 0.9370\n",
            "Epoch 58/100\n",
            "100/100 [==============================] - 20s 197ms/step - loss: 0.0368 - acc: 0.9875 - val_loss: 0.2884 - val_acc: 0.9440\n",
            "Epoch 59/100\n",
            "100/100 [==============================] - 19s 193ms/step - loss: 0.0372 - acc: 0.9895 - val_loss: 0.3150 - val_acc: 0.9320\n",
            "Epoch 60/100\n",
            "100/100 [==============================] - 19s 187ms/step - loss: 0.0325 - acc: 0.9885 - val_loss: 0.2656 - val_acc: 0.9440\n",
            "Epoch 61/100\n",
            "100/100 [==============================] - 19s 187ms/step - loss: 0.0353 - acc: 0.9885 - val_loss: 0.4018 - val_acc: 0.9350\n",
            "Epoch 62/100\n",
            "100/100 [==============================] - 19s 187ms/step - loss: 0.0279 - acc: 0.9885 - val_loss: 0.2238 - val_acc: 0.9460\n",
            "Epoch 63/100\n",
            "100/100 [==============================] - 20s 199ms/step - loss: 0.0422 - acc: 0.9840 - val_loss: 0.3469 - val_acc: 0.9250\n",
            "Epoch 64/100\n",
            "100/100 [==============================] - 19s 187ms/step - loss: 0.0293 - acc: 0.9890 - val_loss: 0.2470 - val_acc: 0.9540\n",
            "Epoch 65/100\n",
            "100/100 [==============================] - 19s 186ms/step - loss: 0.0215 - acc: 0.9910 - val_loss: 0.3626 - val_acc: 0.9290\n",
            "Epoch 66/100\n",
            "100/100 [==============================] - 19s 187ms/step - loss: 0.0203 - acc: 0.9915 - val_loss: 0.2518 - val_acc: 0.9490\n",
            "Epoch 67/100\n",
            "100/100 [==============================] - 20s 200ms/step - loss: 0.0487 - acc: 0.9850 - val_loss: 0.2406 - val_acc: 0.9510\n",
            "Epoch 68/100\n",
            "100/100 [==============================] - 19s 188ms/step - loss: 0.0236 - acc: 0.9935 - val_loss: 0.3157 - val_acc: 0.9310\n",
            "Epoch 69/100\n",
            "100/100 [==============================] - 19s 187ms/step - loss: 0.0276 - acc: 0.9915 - val_loss: 0.4037 - val_acc: 0.9200\n",
            "Epoch 70/100\n",
            "100/100 [==============================] - 19s 186ms/step - loss: 0.0227 - acc: 0.9925 - val_loss: 0.2544 - val_acc: 0.9440\n",
            "Epoch 71/100\n",
            "100/100 [==============================] - 19s 195ms/step - loss: 0.0312 - acc: 0.9885 - val_loss: 0.2547 - val_acc: 0.9420\n",
            "Epoch 72/100\n",
            "100/100 [==============================] - 19s 187ms/step - loss: 0.0207 - acc: 0.9935 - val_loss: 0.3354 - val_acc: 0.9410\n",
            "Epoch 73/100\n",
            "100/100 [==============================] - 20s 199ms/step - loss: 0.0240 - acc: 0.9905 - val_loss: 0.3440 - val_acc: 0.9330\n",
            "Epoch 74/100\n",
            "100/100 [==============================] - 19s 193ms/step - loss: 0.0242 - acc: 0.9900 - val_loss: 0.4233 - val_acc: 0.9250\n",
            "Epoch 75/100\n",
            "100/100 [==============================] - 19s 190ms/step - loss: 0.0333 - acc: 0.9895 - val_loss: 0.2598 - val_acc: 0.9480\n",
            "Epoch 76/100\n",
            "100/100 [==============================] - 19s 190ms/step - loss: 0.0207 - acc: 0.9920 - val_loss: 0.3781 - val_acc: 0.9250\n",
            "Epoch 77/100\n",
            "100/100 [==============================] - 19s 185ms/step - loss: 0.0203 - acc: 0.9930 - val_loss: 0.2827 - val_acc: 0.9520\n",
            "Epoch 78/100\n",
            "100/100 [==============================] - 19s 186ms/step - loss: 0.0268 - acc: 0.9905 - val_loss: 0.3413 - val_acc: 0.9360\n",
            "Epoch 79/100\n",
            "100/100 [==============================] - 19s 186ms/step - loss: 0.0210 - acc: 0.9915 - val_loss: 0.2454 - val_acc: 0.9530\n",
            "Epoch 80/100\n",
            "100/100 [==============================] - 20s 196ms/step - loss: 0.0287 - acc: 0.9915 - val_loss: 0.3299 - val_acc: 0.9370\n",
            "Epoch 81/100\n",
            "100/100 [==============================] - 18s 185ms/step - loss: 0.0190 - acc: 0.9935 - val_loss: 0.3754 - val_acc: 0.9360\n",
            "Epoch 82/100\n",
            "100/100 [==============================] - 19s 185ms/step - loss: 0.0209 - acc: 0.9925 - val_loss: 0.2681 - val_acc: 0.9450\n",
            "Epoch 83/100\n",
            "100/100 [==============================] - 19s 187ms/step - loss: 0.0262 - acc: 0.9910 - val_loss: 0.4833 - val_acc: 0.9260\n",
            "Epoch 84/100\n",
            "100/100 [==============================] - 20s 201ms/step - loss: 0.0243 - acc: 0.9900 - val_loss: 0.2414 - val_acc: 0.9520\n",
            "Epoch 85/100\n",
            "100/100 [==============================] - 19s 186ms/step - loss: 0.0263 - acc: 0.9895 - val_loss: 0.2387 - val_acc: 0.9510\n",
            "Epoch 86/100\n",
            "100/100 [==============================] - 19s 186ms/step - loss: 0.0201 - acc: 0.9935 - val_loss: 0.3645 - val_acc: 0.9430\n",
            "Epoch 87/100\n",
            "100/100 [==============================] - 19s 186ms/step - loss: 0.0220 - acc: 0.9920 - val_loss: 0.2593 - val_acc: 0.9450\n",
            "Epoch 88/100\n",
            "100/100 [==============================] - 20s 196ms/step - loss: 0.0183 - acc: 0.9940 - val_loss: 0.3020 - val_acc: 0.9500\n",
            "Epoch 89/100\n",
            "100/100 [==============================] - 20s 201ms/step - loss: 0.0210 - acc: 0.9910 - val_loss: 0.3420 - val_acc: 0.9420\n",
            "Epoch 90/100\n",
            "100/100 [==============================] - 19s 194ms/step - loss: 0.0201 - acc: 0.9925 - val_loss: 0.3270 - val_acc: 0.9480\n",
            "Epoch 91/100\n",
            "100/100 [==============================] - 19s 186ms/step - loss: 0.0188 - acc: 0.9920 - val_loss: 0.3330 - val_acc: 0.9410\n",
            "Epoch 92/100\n",
            "100/100 [==============================] - 19s 193ms/step - loss: 0.0089 - acc: 0.9980 - val_loss: 0.6253 - val_acc: 0.9160\n",
            "Epoch 93/100\n",
            "100/100 [==============================] - 19s 189ms/step - loss: 0.0185 - acc: 0.9940 - val_loss: 0.4621 - val_acc: 0.9320\n",
            "Epoch 94/100\n",
            "100/100 [==============================] - 19s 186ms/step - loss: 0.0327 - acc: 0.9935 - val_loss: 0.4778 - val_acc: 0.9390\n",
            "Epoch 95/100\n",
            "100/100 [==============================] - 19s 186ms/step - loss: 0.0255 - acc: 0.9950 - val_loss: 0.3223 - val_acc: 0.9400\n",
            "Epoch 96/100\n",
            "100/100 [==============================] - 19s 186ms/step - loss: 0.0298 - acc: 0.9925 - val_loss: 0.3203 - val_acc: 0.9500\n",
            "Epoch 97/100\n",
            "100/100 [==============================] - 20s 196ms/step - loss: 0.0125 - acc: 0.9950 - val_loss: 0.4718 - val_acc: 0.9320\n",
            "Epoch 98/100\n",
            "100/100 [==============================] - 19s 186ms/step - loss: 0.0161 - acc: 0.9940 - val_loss: 0.3713 - val_acc: 0.9390\n",
            "Epoch 99/100\n",
            "100/100 [==============================] - 19s 188ms/step - loss: 0.0193 - acc: 0.9930 - val_loss: 0.3150 - val_acc: 0.9440\n",
            "Epoch 100/100\n",
            "100/100 [==============================] - 19s 188ms/step - loss: 0.0200 - acc: 0.9930 - val_loss: 0.3747 - val_acc: 0.9460\n"
          ],
          "name": "stdout"
        }
      ]
    },
    {
      "metadata": {
        "id": "lefsP9bRY-Wa",
        "colab_type": "code",
        "outputId": "d142ba3f-f009-42ba-ec6b-efd541f54492",
        "colab": {
          "base_uri": "https://localhost:8080/",
          "height": 545
        }
      },
      "cell_type": "code",
      "source": [
        "%matplotlib inline\n",
        "\n",
        "import matplotlib.pyplot as plt\n",
        "\n",
        "acc = history.history['acc']\n",
        "val_acc = history.history['val_acc']\n",
        "\n",
        "loss = history.history['loss']\n",
        "val_loss = history.history['val_loss']\n",
        "\n",
        "epochs = range(1, len(acc) + 1)\n",
        "\n",
        "# training and validation accuracy\n",
        "\n",
        "plt.plot(epochs, acc, 'bo', label='training acc')\n",
        "plt.plot(epochs, val_acc, 'b', label='validation acc')\n",
        "plt.title('training and validation accuracy')\n",
        "plt.legend()\n",
        "\n",
        "plt.figure()\n",
        "\n",
        "# training and validation loss\n",
        "\n",
        "plt.plot(epochs, loss, 'bo', label='training loss')\n",
        "plt.plot(epochs, val_loss, 'b', label='validation loss')\n",
        "plt.title('training and validation loss')\n",
        "plt.legend()\n",
        "\n",
        "plt.show()"
      ],
      "execution_count": 14,
      "outputs": [
        {
          "output_type": "display_data",
          "data": {
            "image/png": "[encoded data removed]",
            "text/plain": [
              "<Figure size 432x288 with 1 Axes>"
            ]
          },
          "metadata": {
            "tags": []
          }
        },
        {
          "output_type": "display_data",
          "data": {
            "image/png": "[encoded data removed]",
            "text/plain": [
              "<Figure size 432x288 with 1 Axes>"
            ]
          },
          "metadata": {
            "tags": []
          }
        }
      ]
    },
    {
      "metadata": {
        "id": "5Q1K8OeiZA2c",
        "colab_type": "code",
        "outputId": "b5bd6d7a-97a7-4b8b-a32a-3a9fc20ff8d4",
        "colab": {
          "base_uri": "https://localhost:8080/",
          "height": 72
        }
      },
      "cell_type": "code",
      "source": [
        "print(\"Validation loss:\", val_loss)\n",
        "print(\"Validation accuracy:\", val_acc)"
      ],
      "execution_count": 15,
      "outputs": [
        {
          "output_type": "stream",
          "text": [
            "Validation loss: [0.280052949488163, 0.2623970056883991, 0.188663087785244, 0.2760199823603034, 0.20222021237015725, 0.4246069499850273, 0.17925276787951588, 0.27070756698027254, 0.17015855507925154, 0.17580389739014207, 0.14119857864454388, 0.26275565443560484, 0.24657889747060835, 0.20384431605692954, 0.14854507090058178, 0.2344605913385749, 0.18509444305556827, 0.1822352900239639, 0.17128043372649698, 0.21167945233173668, 0.2320498254755512, 0.22241638423409313, 0.16047973915236072, 0.1706724752811715, 0.26654612260870636, 0.17820973621448502, 0.4027697864244692, 0.16741864281793822, 0.2588481782976305, 0.19577831997768955, 0.20193016435485334, 0.31204566307947973, 0.23960487115196882, 0.20514988098566392, 0.24920308716595174, 0.23835649235639722, 0.2469785211549606, 0.30123078904329303, 0.231108023669658, 0.3716223797299608, 0.2101743267314123, 0.20087905975116882, 0.21676657291362061, 0.19976241794065572, 0.2159064024881809, 0.28956208545554546, 0.1968471826700261, 0.24544860278860142, 0.2864452487922972, 0.39643295453968674, 0.23826500281073096, 0.24849407652000083, 0.26110925161628984, 0.23573563320824178, 0.2530901073697123, 0.2659902731119655, 0.32626620113951504, 0.2883983945447835, 0.31495673076686215, 0.26559374189630947, 0.40179232764854533, 0.22381781815143767, 0.34687649811701704, 0.2469711794311297, 0.36262951883210914, 0.2517588581095333, 0.24061623784160474, 0.3157388980462565, 0.40367887675645764, 0.25435924801779036, 0.25465344501435083, 0.3354278318461729, 0.34400193653382305, 0.42325525054009633, 0.25978850228248573, 0.37813673714343166, 0.2826676355777727, 0.3413391990670789, 0.2453725793520425, 0.32989725718216506, 0.37540447302331814, 0.2681174005122739, 0.4833261566249894, 0.2413934734164286, 0.23865943437085663, 0.36450771317537034, 0.2593462812186044, 0.3019519446899858, 0.34201135218594575, 0.32696852830194983, 0.33299531596087034, 0.6252919097876293, 0.4621168136213942, 0.4778324510381208, 0.3223402438783705, 0.32030034637049537, 0.4717846201178827, 0.37134968402928736, 0.31501122358889916, 0.3746598484281435]\n",
            "Validation accuracy: [0.8859999966621399, 0.8969999980926514, 0.9259999918937684, 0.8989999985694885, 0.9229999899864196, 0.8739999997615814, 0.933999992609024, 0.9209999942779541, 0.9239999926090241, 0.9349999916553497, 0.9449999952316284, 0.923999993801117, 0.9149999952316284, 0.9249999940395355, 0.9489999902248383, 0.9229999935626984, 0.9559999918937683, 0.9449999928474426, 0.9429999911785125, 0.9299999904632569, 0.9279999923706055, 0.9389999949932099, 0.9459999918937683, 0.9579999935626984, 0.9279999923706055, 0.948999993801117, 0.9109999990463257, 0.9529999911785125, 0.938999993801117, 0.9489999914169311, 0.9449999952316284, 0.9179999899864196, 0.9479999899864197, 0.9449999928474426, 0.938999993801117, 0.9449999940395355, 0.941999990940094, 0.9139999961853027, 0.9479999935626984, 0.9179999947547912, 0.948999992609024, 0.9429999923706055, 0.9499999904632568, 0.9519999945163726, 0.9459999930858612, 0.943999993801117, 0.946999990940094, 0.9519999921321869, 0.9289999914169311, 0.9349999940395355, 0.9459999918937683, 0.9399999952316285, 0.948999992609024, 0.953999992609024, 0.9459999895095825, 0.938999992609024, 0.9369999933242797, 0.9439999902248383, 0.9319999921321869, 0.9439999914169311, 0.9349999928474426, 0.945999995470047, 0.9249999916553497, 0.9539999914169311, 0.9289999949932098, 0.9489999949932099, 0.9509999907016754, 0.930999995470047, 0.9199999952316285, 0.943999993801117, 0.9419999897480011, 0.9409999918937683, 0.9329999899864196, 0.9249999916553497, 0.9479999923706055, 0.9249999964237213, 0.9519999945163726, 0.9359999918937683, 0.9529999923706055, 0.936999990940094, 0.9359999907016754, 0.9449999892711639, 0.9259999930858612, 0.9519999933242798, 0.9509999930858613, 0.9429999923706055, 0.9449999892711639, 0.9499999928474426, 0.941999990940094, 0.9479999923706055, 0.9409999895095825, 0.9159999907016754, 0.9319999885559082, 0.938999992609024, 0.9399999976158142, 0.9499999940395355, 0.9319999933242797, 0.938999993801117, 0.943999992609024, 0.9459999918937683]\n"
          ],
          "name": "stdout"
        }
      ]
    }
  ]
}