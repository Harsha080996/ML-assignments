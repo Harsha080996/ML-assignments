{
  "nbformat": 4,
  "nbformat_minor": 0,
  "metadata": {
    "colab": {
      "name": "HW3.ipynb",
      "version": "0.3.2",
      "provenance": [],
      "include_colab_link": true
    },
    "kernelspec": {
      "name": "python3",
      "display_name": "Python 3"
    },
    "accelerator": "GPU"
  },
  "cells": [
    {
      "cell_type": "markdown",
      "metadata": {
        "id": "view-in-github",
        "colab_type": "text"
      },
      "source": [
        "<a href=\"https://colab.research.google.com/github/Harsha080996/ML-assignments/blob/master/HW3.ipynb\" target=\"_parent\"><img src=\"https://colab.research.google.com/assets/colab-badge.svg\" alt=\"Open In Colab\"/></a>"
      ]
    },
    {
      "metadata": {
        "id": "uyXvnBRLFhiU",
        "colab_type": "text"
      },
      "cell_type": "markdown",
      "source": [
        "**Problem 1: Feature extraction with data augmentation**"
      ]
    },
    {
      "metadata": {
        "id": "2nKB6NE6FvnL",
        "colab_type": "code",
        "outputId": "9397c61c-ebbb-4cfd-d7c8-b360d94a5bcb",
        "colab": {
          "base_uri": "https://localhost:8080/",
          "height": 208
        }
      },
      "cell_type": "code",
      "source": [
        "#images for cats and dogs from google\n",
        "!wget --no-check-certificate \\\n",
        "    https://storage.googleapis.com/mledu-datasets/cats_and_dogs_filtered.zip \\\n",
        "    -O /tmp/cats_and_dogs_filtered.zip"
      ],
      "execution_count": 1,
      "outputs": [
        {
          "output_type": "stream",
          "text": [
            "--2019-04-17 15:58:24--  https://storage.googleapis.com/mledu-datasets/cats_and_dogs_filtered.zip\n",
            "Resolving storage.googleapis.com (storage.googleapis.com)... 108.177.127.128, 2a00:1450:4013:c00::80\n",
            "Connecting to storage.googleapis.com (storage.googleapis.com)|108.177.127.128|:443... connected.\n",
            "HTTP request sent, awaiting response... 200 OK\n",
            "Length: 68606236 (65M) [application/zip]\n",
            "Saving to: ‘/tmp/cats_and_dogs_filtered.zip’\n",
            "\n",
            "/tmp/cats_and_dogs_ 100%[===================>]  65.43M  62.0MB/s    in 1.1s    \n",
            "\n",
            "2019-04-17 15:58:31 (62.0 MB/s) - ‘/tmp/cats_and_dogs_filtered.zip’ saved [68606236/68606236]\n",
            "\n"
          ],
          "name": "stdout"
        }
      ]
    },
    {
      "metadata": {
        "id": "1k4TMG4uWpoA",
        "colab_type": "code",
        "colab": {}
      },
      "cell_type": "code",
      "source": [
        "import os\n",
        "import zipfile\n",
        "\n",
        "local_zip = '/tmp/cats_and_dogs_filtered.zip'\n",
        "zip_ref = zipfile.ZipFile(local_zip, 'r')\n",
        "zip_ref.extractall('/tmp')\n",
        "zip_ref.close()"
      ],
      "execution_count": 0,
      "outputs": []
    },
    {
      "metadata": {
        "id": "DU8oIkpaWwGc",
        "colab_type": "code",
        "colab": {}
      },
      "cell_type": "code",
      "source": [
        "base_dir = '/tmp/cats_and_dogs_filtered'\n",
        "train_dir = os.path.join(base_dir, 'train')\n",
        "validation_dir = os.path.join(base_dir, 'validation')\n",
        "\n",
        "# Directory with our training cat pictures\n",
        "train_cats_dir = os.path.join(train_dir, 'cats')\n",
        "\n",
        "# Directory with our training dog pictures\n",
        "train_dogs_dir = os.path.join(train_dir, 'dogs')\n",
        "\n",
        "# Directory with our validation cat pictures\n",
        "validation_cats_dir = os.path.join(validation_dir, 'cats')\n",
        "\n",
        "# Directory with our validation dog pictures\n",
        "validation_dogs_dir = os.path.join(validation_dir, 'dogs')"
      ],
      "execution_count": 0,
      "outputs": []
    },
    {
      "metadata": {
        "id": "_2rI6-SOW2ta",
        "colab_type": "code",
        "outputId": "d36b6fb5-8042-427e-b929-5bc3a365dfba",
        "colab": {
          "base_uri": "https://localhost:8080/",
          "height": 141
        }
      },
      "cell_type": "code",
      "source": [
        "from keras.applications import VGG19 #Downloading VGG19\n",
        "\n",
        "conv_base = VGG19(\n",
        "    weights='imagenet', \n",
        "    include_top=False, \n",
        "    input_shape=(224, 224, 3))"
      ],
      "execution_count": 4,
      "outputs": [
        {
          "output_type": "stream",
          "text": [
            "Using TensorFlow backend.\n"
          ],
          "name": "stderr"
        },
        {
          "output_type": "stream",
          "text": [
            "WARNING:tensorflow:From /usr/local/lib/python3.6/dist-packages/tensorflow/python/framework/op_def_library.py:263: colocate_with (from tensorflow.python.framework.ops) is deprecated and will be removed in a future version.\n",
            "Instructions for updating:\n",
            "Colocations handled automatically by placer.\n",
            "Downloading data from https://github.com/fchollet/deep-learning-models/releases/download/v0.1/vgg19_weights_tf_dim_ordering_tf_kernels_notop.h5\n",
            "80142336/80134624 [==============================] - 3s 0us/step\n"
          ],
          "name": "stdout"
        }
      ]
    },
    {
      "metadata": {
        "id": "YRB4-JgGW9Eg",
        "colab_type": "code",
        "outputId": "1d0cb885-1be4-4867-abba-f27e8a5b596d",
        "colab": {
          "base_uri": "https://localhost:8080/",
          "height": 901
        }
      },
      "cell_type": "code",
      "source": [
        "conv_base.summary() "
      ],
      "execution_count": 5,
      "outputs": [
        {
          "output_type": "stream",
          "text": [
            "_________________________________________________________________\n",
            "Layer (type)                 Output Shape              Param #   \n",
            "=================================================================\n",
            "input_1 (InputLayer)         (None, 224, 224, 3)       0         \n",
            "_________________________________________________________________\n",
            "block1_conv1 (Conv2D)        (None, 224, 224, 64)      1792      \n",
            "_________________________________________________________________\n",
            "block1_conv2 (Conv2D)        (None, 224, 224, 64)      36928     \n",
            "_________________________________________________________________\n",
            "block1_pool (MaxPooling2D)   (None, 112, 112, 64)      0         \n",
            "_________________________________________________________________\n",
            "block2_conv1 (Conv2D)        (None, 112, 112, 128)     73856     \n",
            "_________________________________________________________________\n",
            "block2_conv2 (Conv2D)        (None, 112, 112, 128)     147584    \n",
            "_________________________________________________________________\n",
            "block2_pool (MaxPooling2D)   (None, 56, 56, 128)       0         \n",
            "_________________________________________________________________\n",
            "block3_conv1 (Conv2D)        (None, 56, 56, 256)       295168    \n",
            "_________________________________________________________________\n",
            "block3_conv2 (Conv2D)        (None, 56, 56, 256)       590080    \n",
            "_________________________________________________________________\n",
            "block3_conv3 (Conv2D)        (None, 56, 56, 256)       590080    \n",
            "_________________________________________________________________\n",
            "block3_conv4 (Conv2D)        (None, 56, 56, 256)       590080    \n",
            "_________________________________________________________________\n",
            "block3_pool (MaxPooling2D)   (None, 28, 28, 256)       0         \n",
            "_________________________________________________________________\n",
            "block4_conv1 (Conv2D)        (None, 28, 28, 512)       1180160   \n",
            "_________________________________________________________________\n",
            "block4_conv2 (Conv2D)        (None, 28, 28, 512)       2359808   \n",
            "_________________________________________________________________\n",
            "block4_conv3 (Conv2D)        (None, 28, 28, 512)       2359808   \n",
            "_________________________________________________________________\n",
            "block4_conv4 (Conv2D)        (None, 28, 28, 512)       2359808   \n",
            "_________________________________________________________________\n",
            "block4_pool (MaxPooling2D)   (None, 14, 14, 512)       0         \n",
            "_________________________________________________________________\n",
            "block5_conv1 (Conv2D)        (None, 14, 14, 512)       2359808   \n",
            "_________________________________________________________________\n",
            "block5_conv2 (Conv2D)        (None, 14, 14, 512)       2359808   \n",
            "_________________________________________________________________\n",
            "block5_conv3 (Conv2D)        (None, 14, 14, 512)       2359808   \n",
            "_________________________________________________________________\n",
            "block5_conv4 (Conv2D)        (None, 14, 14, 512)       2359808   \n",
            "_________________________________________________________________\n",
            "block5_pool (MaxPooling2D)   (None, 7, 7, 512)         0         \n",
            "=================================================================\n",
            "Total params: 20,024,384\n",
            "Trainable params: 20,024,384\n",
            "Non-trainable params: 0\n",
            "_________________________________________________________________\n"
          ],
          "name": "stdout"
        }
      ]
    },
    {
      "metadata": {
        "id": "DStQGrHsHVlz",
        "colab_type": "text"
      },
      "cell_type": "markdown",
      "source": [
        "**Freezing the convulutional base**"
      ]
    },
    {
      "metadata": {
        "id": "ZA3ZtH4aGsWD",
        "colab_type": "code",
        "colab": {}
      },
      "cell_type": "code",
      "source": [
        "conv_base.trainable = False  "
      ],
      "execution_count": 0,
      "outputs": []
    },
    {
      "metadata": {
        "id": "M7TmHRuzKJQM",
        "colab_type": "code",
        "outputId": "68217403-a7a6-4816-8e06-10895e6e108c",
        "colab": {
          "base_uri": "https://localhost:8080/",
          "height": 35
        }
      },
      "cell_type": "code",
      "source": [
        "#Extracting features from last layer in VGG19\n",
        "for layer in conv_base.layers:\n",
        "  layer.trainable = False\n",
        "  \n",
        "last_layer = conv_base.get_layer('block5_pool')\n",
        "print('last layer output shape:', last_layer.output_shape)\n",
        "last_output = last_layer.output"
      ],
      "execution_count": 9,
      "outputs": [
        {
          "output_type": "stream",
          "text": [
            "last layer output shape: (None, 7, 7, 512)\n"
          ],
          "name": "stdout"
        }
      ]
    },
    {
      "metadata": {
        "id": "F0pUX5NXHWi-",
        "colab_type": "text"
      },
      "cell_type": "markdown",
      "source": [
        "**Concatenate the convolutional base and densely connected layers**"
      ]
    },
    {
      "metadata": {
        "id": "XuTy1hHYXCsX",
        "colab_type": "code",
        "colab": {}
      },
      "cell_type": "code",
      "source": [
        "from keras import layers\n",
        "from keras import models\n",
        "from keras import optimizers\n",
        "from tensorflow.keras import Model\n",
        "\n",
        "\n",
        "x = layers.Flatten()(last_output)\n",
        "x = layers.Dense(256, activation='relu')(x)\n",
        "x = layers.Dense(1, activation='sigmoid')(x)\n",
        "\n",
        "# Configure and compile the model\n",
        "model = models.Model(conv_base.input, x)\n",
        "model.compile(loss='binary_crossentropy',\n",
        "              optimizer=optimizers.RMSprop(lr=0.0001),\n",
        "              metrics=['acc'])"
      ],
      "execution_count": 0,
      "outputs": []
    },
    {
      "metadata": {
        "id": "s5k5bw0EXEVA",
        "colab_type": "code",
        "outputId": "b6bc9539-2563-49dd-c23f-71b68ff9581c",
        "colab": {
          "base_uri": "https://localhost:8080/",
          "height": 1005
        }
      },
      "cell_type": "code",
      "source": [
        "model.summary()"
      ],
      "execution_count": 11,
      "outputs": [
        {
          "output_type": "stream",
          "text": [
            "_________________________________________________________________\n",
            "Layer (type)                 Output Shape              Param #   \n",
            "=================================================================\n",
            "input_1 (InputLayer)         (None, 224, 224, 3)       0         \n",
            "_________________________________________________________________\n",
            "block1_conv1 (Conv2D)        (None, 224, 224, 64)      1792      \n",
            "_________________________________________________________________\n",
            "block1_conv2 (Conv2D)        (None, 224, 224, 64)      36928     \n",
            "_________________________________________________________________\n",
            "block1_pool (MaxPooling2D)   (None, 112, 112, 64)      0         \n",
            "_________________________________________________________________\n",
            "block2_conv1 (Conv2D)        (None, 112, 112, 128)     73856     \n",
            "_________________________________________________________________\n",
            "block2_conv2 (Conv2D)        (None, 112, 112, 128)     147584    \n",
            "_________________________________________________________________\n",
            "block2_pool (MaxPooling2D)   (None, 56, 56, 128)       0         \n",
            "_________________________________________________________________\n",
            "block3_conv1 (Conv2D)        (None, 56, 56, 256)       295168    \n",
            "_________________________________________________________________\n",
            "block3_conv2 (Conv2D)        (None, 56, 56, 256)       590080    \n",
            "_________________________________________________________________\n",
            "block3_conv3 (Conv2D)        (None, 56, 56, 256)       590080    \n",
            "_________________________________________________________________\n",
            "block3_conv4 (Conv2D)        (None, 56, 56, 256)       590080    \n",
            "_________________________________________________________________\n",
            "block3_pool (MaxPooling2D)   (None, 28, 28, 256)       0         \n",
            "_________________________________________________________________\n",
            "block4_conv1 (Conv2D)        (None, 28, 28, 512)       1180160   \n",
            "_________________________________________________________________\n",
            "block4_conv2 (Conv2D)        (None, 28, 28, 512)       2359808   \n",
            "_________________________________________________________________\n",
            "block4_conv3 (Conv2D)        (None, 28, 28, 512)       2359808   \n",
            "_________________________________________________________________\n",
            "block4_conv4 (Conv2D)        (None, 28, 28, 512)       2359808   \n",
            "_________________________________________________________________\n",
            "block4_pool (MaxPooling2D)   (None, 14, 14, 512)       0         \n",
            "_________________________________________________________________\n",
            "block5_conv1 (Conv2D)        (None, 14, 14, 512)       2359808   \n",
            "_________________________________________________________________\n",
            "block5_conv2 (Conv2D)        (None, 14, 14, 512)       2359808   \n",
            "_________________________________________________________________\n",
            "block5_conv3 (Conv2D)        (None, 14, 14, 512)       2359808   \n",
            "_________________________________________________________________\n",
            "block5_conv4 (Conv2D)        (None, 14, 14, 512)       2359808   \n",
            "_________________________________________________________________\n",
            "block5_pool (MaxPooling2D)   (None, 7, 7, 512)         0         \n",
            "_________________________________________________________________\n",
            "flatten_2 (Flatten)          (None, 25088)             0         \n",
            "_________________________________________________________________\n",
            "dense_1 (Dense)              (None, 256)               6422784   \n",
            "_________________________________________________________________\n",
            "dense_2 (Dense)              (None, 1)                 257       \n",
            "=================================================================\n",
            "Total params: 26,447,425\n",
            "Trainable params: 6,423,041\n",
            "Non-trainable params: 20,024,384\n",
            "_________________________________________________________________\n"
          ],
          "name": "stdout"
        }
      ]
    },
    {
      "metadata": {
        "id": "kdpT_N1YHx9N",
        "colab_type": "text"
      },
      "cell_type": "markdown",
      "source": [
        "**Train the model end to end with frozen convolutional base**"
      ]
    },
    {
      "metadata": {
        "id": "ffCAi_DEXKbC",
        "colab_type": "code",
        "outputId": "d40c7970-fe58-4c4f-d0d7-90b5b11e4d2b",
        "colab": {
          "base_uri": "https://localhost:8080/",
          "height": 1164
        }
      },
      "cell_type": "code",
      "source": [
        "from keras.preprocessing.image import ImageDataGenerator\n",
        "from keras import optimizers\n",
        "\n",
        "# data augmentation\n",
        "\n",
        "train_datagen = ImageDataGenerator(\n",
        "    rescale=1./255, \n",
        "    rotation_range=40,\n",
        "    width_shift_range=0.2,\n",
        "    height_shift_range=0.2,\n",
        "    shear_range=0.2,\n",
        "    zoom_range=0.2,\n",
        "    horizontal_flip=True,\n",
        "    fill_mode='nearest'\n",
        ")\n",
        "\n",
        "train_generator = train_datagen.flow_from_directory(\n",
        "    train_dir,\n",
        "    target_size=(224, 224),\n",
        "    batch_size=20,\n",
        "    class_mode='binary')\n",
        "\n",
        "validation_datagen = ImageDataGenerator(rescale=1./255)\n",
        "\n",
        "validation_generator = validation_datagen.flow_from_directory(\n",
        "    validation_dir,\n",
        "    target_size=(224, 224),\n",
        "    batch_size=20,\n",
        "    class_mode='binary')\n",
        "\n",
        "# compile model\n",
        "\n",
        "model.compile(\n",
        "    loss='binary_crossentropy', \n",
        "    optimizer=optimizers.RMSprop(lr=2e-5), \n",
        "    metrics=['acc'])\n",
        "\n",
        "# train\n",
        "\n",
        "history = model.fit_generator(\n",
        "    train_generator,\n",
        "    steps_per_epoch=100,\n",
        "    epochs=30,\n",
        "    validation_data=validation_generator,\n",
        "    validation_steps=50\n",
        ")"
      ],
      "execution_count": 12,
      "outputs": [
        {
          "output_type": "stream",
          "text": [
            "Found 2000 images belonging to 2 classes.\n",
            "Found 1000 images belonging to 2 classes.\n",
            "WARNING:tensorflow:From /usr/local/lib/python3.6/dist-packages/tensorflow/python/ops/math_ops.py:3066: to_int32 (from tensorflow.python.ops.math_ops) is deprecated and will be removed in a future version.\n",
            "Instructions for updating:\n",
            "Use tf.cast instead.\n",
            "Epoch 1/30\n",
            "100/100 [==============================] - 40s 397ms/step - loss: 0.5790 - acc: 0.6890 - val_loss: 0.4374 - val_acc: 0.7930\n",
            "Epoch 2/30\n",
            "100/100 [==============================] - 32s 324ms/step - loss: 0.4823 - acc: 0.7740 - val_loss: 0.3352 - val_acc: 0.8660\n",
            "Epoch 3/30\n",
            "100/100 [==============================] - 34s 336ms/step - loss: 0.4106 - acc: 0.8040 - val_loss: 0.3012 - val_acc: 0.8710\n",
            "Epoch 4/30\n",
            "100/100 [==============================] - 33s 326ms/step - loss: 0.3892 - acc: 0.8270 - val_loss: 0.2872 - val_acc: 0.8770\n",
            "Epoch 5/30\n",
            "100/100 [==============================] - 34s 340ms/step - loss: 0.3717 - acc: 0.8365 - val_loss: 0.2541 - val_acc: 0.8990\n",
            "Epoch 6/30\n",
            "100/100 [==============================] - 33s 327ms/step - loss: 0.3553 - acc: 0.8395 - val_loss: 0.2889 - val_acc: 0.8820\n",
            "Epoch 7/30\n",
            "100/100 [==============================] - 34s 342ms/step - loss: 0.3502 - acc: 0.8400 - val_loss: 0.2696 - val_acc: 0.8800\n",
            "Epoch 8/30\n",
            "100/100 [==============================] - 33s 326ms/step - loss: 0.3357 - acc: 0.8505 - val_loss: 0.2488 - val_acc: 0.8990\n",
            "Epoch 9/30\n",
            "100/100 [==============================] - 33s 326ms/step - loss: 0.3223 - acc: 0.8620 - val_loss: 0.2269 - val_acc: 0.9090\n",
            "Epoch 10/30\n",
            "100/100 [==============================] - 34s 341ms/step - loss: 0.3308 - acc: 0.8565 - val_loss: 0.2276 - val_acc: 0.9130\n",
            "Epoch 11/30\n",
            "100/100 [==============================] - 33s 327ms/step - loss: 0.3208 - acc: 0.8630 - val_loss: 0.2205 - val_acc: 0.9130\n",
            "Epoch 12/30\n",
            "100/100 [==============================] - 34s 336ms/step - loss: 0.3060 - acc: 0.8690 - val_loss: 0.2146 - val_acc: 0.9220\n",
            "Epoch 13/30\n",
            "100/100 [==============================] - 33s 329ms/step - loss: 0.3141 - acc: 0.8580 - val_loss: 0.2121 - val_acc: 0.9110\n",
            "Epoch 14/30\n",
            "100/100 [==============================] - 33s 329ms/step - loss: 0.3025 - acc: 0.8620 - val_loss: 0.2069 - val_acc: 0.9190\n",
            "Epoch 15/30\n",
            "100/100 [==============================] - 34s 341ms/step - loss: 0.3087 - acc: 0.8625 - val_loss: 0.2054 - val_acc: 0.9230\n",
            "Epoch 16/30\n",
            "100/100 [==============================] - 34s 339ms/step - loss: 0.3048 - acc: 0.8635 - val_loss: 0.2365 - val_acc: 0.9030\n",
            "Epoch 17/30\n",
            "100/100 [==============================] - 34s 341ms/step - loss: 0.2907 - acc: 0.8695 - val_loss: 0.2296 - val_acc: 0.9060\n",
            "Epoch 18/30\n",
            "100/100 [==============================] - 33s 329ms/step - loss: 0.2964 - acc: 0.8685 - val_loss: 0.2852 - val_acc: 0.8740\n",
            "Epoch 19/30\n",
            "100/100 [==============================] - 33s 332ms/step - loss: 0.2859 - acc: 0.8715 - val_loss: 0.2268 - val_acc: 0.9050\n",
            "Epoch 20/30\n",
            "100/100 [==============================] - 33s 333ms/step - loss: 0.2862 - acc: 0.8740 - val_loss: 0.2218 - val_acc: 0.9100\n",
            "Epoch 21/30\n",
            "100/100 [==============================] - 33s 328ms/step - loss: 0.2782 - acc: 0.8825 - val_loss: 0.1970 - val_acc: 0.9120\n",
            "Epoch 22/30\n",
            "100/100 [==============================] - 34s 341ms/step - loss: 0.2704 - acc: 0.8795 - val_loss: 0.1959 - val_acc: 0.9160\n",
            "Epoch 23/30\n",
            "100/100 [==============================] - 33s 328ms/step - loss: 0.2698 - acc: 0.8785 - val_loss: 0.2030 - val_acc: 0.9140\n",
            "Epoch 24/30\n",
            "100/100 [==============================] - 33s 332ms/step - loss: 0.2733 - acc: 0.8835 - val_loss: 0.1967 - val_acc: 0.9210\n",
            "Epoch 25/30\n",
            "100/100 [==============================] - 32s 318ms/step - loss: 0.2750 - acc: 0.8810 - val_loss: 0.2350 - val_acc: 0.9020\n",
            "Epoch 26/30\n",
            "100/100 [==============================] - 33s 327ms/step - loss: 0.2660 - acc: 0.8865 - val_loss: 0.1910 - val_acc: 0.9180\n",
            "Epoch 27/30\n",
            "100/100 [==============================] - 33s 330ms/step - loss: 0.2737 - acc: 0.8870 - val_loss: 0.2181 - val_acc: 0.9110\n",
            "Epoch 28/30\n",
            "100/100 [==============================] - 32s 324ms/step - loss: 0.2502 - acc: 0.8925 - val_loss: 0.2574 - val_acc: 0.9030\n",
            "Epoch 29/30\n",
            "100/100 [==============================] - 33s 326ms/step - loss: 0.2655 - acc: 0.8850 - val_loss: 0.2106 - val_acc: 0.9230\n",
            "Epoch 30/30\n",
            "100/100 [==============================] - 31s 312ms/step - loss: 0.2804 - acc: 0.8775 - val_loss: 0.1959 - val_acc: 0.9200\n"
          ],
          "name": "stdout"
        }
      ]
    },
    {
      "metadata": {
        "id": "Ix3npE90IC-U",
        "colab_type": "text"
      },
      "cell_type": "markdown",
      "source": [
        "**Display curves of loss and accuracy during training**"
      ]
    },
    {
      "metadata": {
        "id": "VdZcnMUzYPa5",
        "colab_type": "code",
        "outputId": "c6f5000c-2869-43e7-bbf0-78788ce794c6",
        "colab": {
          "base_uri": "https://localhost:8080/",
          "height": 545
        }
      },
      "cell_type": "code",
      "source": [
        "%matplotlib inline\n",
        "\n",
        "import matplotlib.pyplot as plt\n",
        "\n",
        "acc = history.history['acc']\n",
        "val_acc = history.history['val_acc']\n",
        "\n",
        "loss = history.history['loss']\n",
        "val_loss = history.history['val_loss']\n",
        "\n",
        "epochs = range(1, len(acc) + 1)\n",
        "\n",
        "# training and validation accuracy\n",
        "\n",
        "plt.plot(epochs, acc, 'bo', label='training acc')\n",
        "plt.plot(epochs, val_acc, 'b', label='validation acc')\n",
        "plt.title('training and validation accuracy')\n",
        "plt.legend()\n",
        "\n",
        "plt.figure()\n",
        "\n",
        "# training and validation loss\n",
        "\n",
        "plt.plot(epochs, loss, 'bo', label='training loss')\n",
        "plt.plot(epochs, val_loss, 'b', label='validation loss')\n",
        "plt.title('training and validation loss')\n",
        "plt.legend()\n",
        "\n",
        "plt.show()"
      ],
      "execution_count": 13,
      "outputs": [
        {
          "output_type": "display_data",
          "data": {
            "image/png": "[encoded data removed]",
            "text/plain": [
              "<Figure size 432x288 with 1 Axes>"
            ]
          },
          "metadata": {
            "tags": []
          }
        },
        {
          "output_type": "display_data",
          "data": {
            "image/png": "[encoded data removed]",
            "text/plain": [
              "<Figure size 432x288 with 1 Axes>"
            ]
          },
          "metadata": {
            "tags": []
          }
        }
      ]
    },
    {
      "metadata": {
        "id": "5Q5zx_0zJDwz",
        "colab_type": "text"
      },
      "cell_type": "markdown",
      "source": [
        "**Problem 2: Fine tuning with data augmentation**"
      ]
    },
    {
      "metadata": {
        "id": "J8fmGrkuY7Q4",
        "colab_type": "code",
        "colab": {}
      },
      "cell_type": "code",
      "source": [
        "conv_base.trainable = True\n",
        "\n",
        "set_trainable = False\n",
        "for layer in conv_base.layers:\n",
        "  if layer.name == 'block5_conv1':\n",
        "    set_trainable = True\n",
        "  if set_trainable:\n",
        "    layer.trainable = True\n",
        "  else:\n",
        "    layer.trainable = False"
      ],
      "execution_count": 0,
      "outputs": []
    },
    {
      "metadata": {
        "id": "yUZhfkgdIj8M",
        "colab_type": "text"
      },
      "cell_type": "markdown",
      "source": [
        "**Training with smaller learning rate**"
      ]
    },
    {
      "metadata": {
        "id": "Bqw7kofbY8Gm",
        "colab_type": "code",
        "outputId": "918fad5e-961c-4a4e-b58b-b32eeb37f616",
        "colab": {
          "base_uri": "https://localhost:8080/",
          "height": 1005
        }
      },
      "cell_type": "code",
      "source": [
        "# compile model\n",
        "\n",
        "model.compile(\n",
        "    loss='binary_crossentropy',\n",
        "    #\n",
        "    # choose a smaller learning rate\n",
        "    #\n",
        "    optimizer=optimizers.RMSprop(lr=1e-5), \n",
        "    metrics=['acc'])\n",
        "model.summary()\n",
        "\n"
      ],
      "execution_count": 15,
      "outputs": [
        {
          "output_type": "stream",
          "text": [
            "_________________________________________________________________\n",
            "Layer (type)                 Output Shape              Param #   \n",
            "=================================================================\n",
            "input_1 (InputLayer)         (None, 224, 224, 3)       0         \n",
            "_________________________________________________________________\n",
            "block1_conv1 (Conv2D)        (None, 224, 224, 64)      1792      \n",
            "_________________________________________________________________\n",
            "block1_conv2 (Conv2D)        (None, 224, 224, 64)      36928     \n",
            "_________________________________________________________________\n",
            "block1_pool (MaxPooling2D)   (None, 112, 112, 64)      0         \n",
            "_________________________________________________________________\n",
            "block2_conv1 (Conv2D)        (None, 112, 112, 128)     73856     \n",
            "_________________________________________________________________\n",
            "block2_conv2 (Conv2D)        (None, 112, 112, 128)     147584    \n",
            "_________________________________________________________________\n",
            "block2_pool (MaxPooling2D)   (None, 56, 56, 128)       0         \n",
            "_________________________________________________________________\n",
            "block3_conv1 (Conv2D)        (None, 56, 56, 256)       295168    \n",
            "_________________________________________________________________\n",
            "block3_conv2 (Conv2D)        (None, 56, 56, 256)       590080    \n",
            "_________________________________________________________________\n",
            "block3_conv3 (Conv2D)        (None, 56, 56, 256)       590080    \n",
            "_________________________________________________________________\n",
            "block3_conv4 (Conv2D)        (None, 56, 56, 256)       590080    \n",
            "_________________________________________________________________\n",
            "block3_pool (MaxPooling2D)   (None, 28, 28, 256)       0         \n",
            "_________________________________________________________________\n",
            "block4_conv1 (Conv2D)        (None, 28, 28, 512)       1180160   \n",
            "_________________________________________________________________\n",
            "block4_conv2 (Conv2D)        (None, 28, 28, 512)       2359808   \n",
            "_________________________________________________________________\n",
            "block4_conv3 (Conv2D)        (None, 28, 28, 512)       2359808   \n",
            "_________________________________________________________________\n",
            "block4_conv4 (Conv2D)        (None, 28, 28, 512)       2359808   \n",
            "_________________________________________________________________\n",
            "block4_pool (MaxPooling2D)   (None, 14, 14, 512)       0         \n",
            "_________________________________________________________________\n",
            "block5_conv1 (Conv2D)        (None, 14, 14, 512)       2359808   \n",
            "_________________________________________________________________\n",
            "block5_conv2 (Conv2D)        (None, 14, 14, 512)       2359808   \n",
            "_________________________________________________________________\n",
            "block5_conv3 (Conv2D)        (None, 14, 14, 512)       2359808   \n",
            "_________________________________________________________________\n",
            "block5_conv4 (Conv2D)        (None, 14, 14, 512)       2359808   \n",
            "_________________________________________________________________\n",
            "block5_pool (MaxPooling2D)   (None, 7, 7, 512)         0         \n",
            "_________________________________________________________________\n",
            "flatten_2 (Flatten)          (None, 25088)             0         \n",
            "_________________________________________________________________\n",
            "dense_1 (Dense)              (None, 256)               6422784   \n",
            "_________________________________________________________________\n",
            "dense_2 (Dense)              (None, 1)                 257       \n",
            "=================================================================\n",
            "Total params: 26,447,425\n",
            "Trainable params: 15,862,273\n",
            "Non-trainable params: 10,585,152\n",
            "_________________________________________________________________\n"
          ],
          "name": "stdout"
        }
      ]
    },
    {
      "metadata": {
        "id": "w3w57tEmDa6u",
        "colab_type": "code",
        "colab": {
          "base_uri": "https://localhost:8080/",
          "height": 1751
        },
        "outputId": "b1f1cf29-53fe-440b-c914-2f222495e9ec"
      },
      "cell_type": "code",
      "source": [
        "# train\n",
        "\n",
        "history = model.fit_generator(\n",
        "    train_generator,\n",
        "    steps_per_epoch=100,\n",
        "    epochs=50,\n",
        "    validation_data=validation_generator,\n",
        "    validation_steps=50)"
      ],
      "execution_count": 17,
      "outputs": [
        {
          "output_type": "stream",
          "text": [
            "Epoch 1/50\n",
            "100/100 [==============================] - 36s 363ms/step - loss: 0.2779 - acc: 0.8840 - val_loss: 0.1629 - val_acc: 0.9300\n",
            "Epoch 2/50\n",
            "100/100 [==============================] - 34s 339ms/step - loss: 0.2078 - acc: 0.9140 - val_loss: 0.1446 - val_acc: 0.9390\n",
            "Epoch 3/50\n",
            "100/100 [==============================] - 34s 343ms/step - loss: 0.2003 - acc: 0.9170 - val_loss: 0.1431 - val_acc: 0.9450\n",
            "Epoch 4/50\n",
            "100/100 [==============================] - 33s 333ms/step - loss: 0.1786 - acc: 0.9240 - val_loss: 0.1097 - val_acc: 0.9650\n",
            "Epoch 5/50\n",
            "100/100 [==============================] - 33s 331ms/step - loss: 0.1733 - acc: 0.9340 - val_loss: 0.1468 - val_acc: 0.9390\n",
            "Epoch 6/50\n",
            "100/100 [==============================] - 32s 324ms/step - loss: 0.1394 - acc: 0.9475 - val_loss: 0.1280 - val_acc: 0.9520\n",
            "Epoch 7/50\n",
            "100/100 [==============================] - 34s 339ms/step - loss: 0.1266 - acc: 0.9475 - val_loss: 0.1606 - val_acc: 0.9400\n",
            "Epoch 8/50\n",
            "100/100 [==============================] - 32s 324ms/step - loss: 0.1229 - acc: 0.9535 - val_loss: 0.1239 - val_acc: 0.9590\n",
            "Epoch 9/50\n",
            "100/100 [==============================] - 34s 335ms/step - loss: 0.1049 - acc: 0.9595 - val_loss: 0.1291 - val_acc: 0.9570\n",
            "Epoch 10/50\n",
            "100/100 [==============================] - 32s 323ms/step - loss: 0.1261 - acc: 0.9500 - val_loss: 0.1048 - val_acc: 0.9660\n",
            "Epoch 11/50\n",
            "100/100 [==============================] - 32s 323ms/step - loss: 0.0977 - acc: 0.9635 - val_loss: 0.1112 - val_acc: 0.9640\n",
            "Epoch 12/50\n",
            "100/100 [==============================] - 35s 352ms/step - loss: 0.1087 - acc: 0.9580 - val_loss: 0.1375 - val_acc: 0.9550\n",
            "Epoch 13/50\n",
            "100/100 [==============================] - 32s 322ms/step - loss: 0.0799 - acc: 0.9705 - val_loss: 0.0732 - val_acc: 0.9690\n",
            "Epoch 14/50\n",
            "100/100 [==============================] - 34s 338ms/step - loss: 0.0813 - acc: 0.9660 - val_loss: 0.1346 - val_acc: 0.9630\n",
            "Epoch 15/50\n",
            "100/100 [==============================] - 32s 323ms/step - loss: 0.0872 - acc: 0.9645 - val_loss: 0.1271 - val_acc: 0.9590\n",
            "Epoch 16/50\n",
            "100/100 [==============================] - 32s 322ms/step - loss: 0.0765 - acc: 0.9670 - val_loss: 0.1396 - val_acc: 0.9670\n",
            "Epoch 17/50\n",
            "100/100 [==============================] - 33s 328ms/step - loss: 0.0731 - acc: 0.9750 - val_loss: 0.1121 - val_acc: 0.9700\n",
            "Epoch 18/50\n",
            "100/100 [==============================] - 32s 323ms/step - loss: 0.0541 - acc: 0.9780 - val_loss: 0.0940 - val_acc: 0.9760\n",
            "Epoch 19/50\n",
            "100/100 [==============================] - 34s 338ms/step - loss: 0.0780 - acc: 0.9680 - val_loss: 0.1547 - val_acc: 0.9640\n",
            "Epoch 20/50\n",
            "100/100 [==============================] - 32s 324ms/step - loss: 0.0644 - acc: 0.9760 - val_loss: 0.1325 - val_acc: 0.9620\n",
            "Epoch 21/50\n",
            "100/100 [==============================] - 32s 322ms/step - loss: 0.0552 - acc: 0.9780 - val_loss: 0.1562 - val_acc: 0.9660\n",
            "Epoch 22/50\n",
            "100/100 [==============================] - 34s 336ms/step - loss: 0.0588 - acc: 0.9760 - val_loss: 0.1430 - val_acc: 0.9640\n",
            "Epoch 23/50\n",
            "100/100 [==============================] - 32s 321ms/step - loss: 0.0651 - acc: 0.9715 - val_loss: 0.1352 - val_acc: 0.9650\n",
            "Epoch 24/50\n",
            "100/100 [==============================] - 34s 338ms/step - loss: 0.0612 - acc: 0.9750 - val_loss: 0.1476 - val_acc: 0.9610\n",
            "Epoch 25/50\n",
            "100/100 [==============================] - 33s 326ms/step - loss: 0.0464 - acc: 0.9840 - val_loss: 0.1337 - val_acc: 0.9680\n",
            "Epoch 26/50\n",
            "100/100 [==============================] - 33s 333ms/step - loss: 0.0621 - acc: 0.9790 - val_loss: 0.1586 - val_acc: 0.9660\n",
            "Epoch 27/50\n",
            "100/100 [==============================] - 33s 327ms/step - loss: 0.0431 - acc: 0.9850 - val_loss: 0.1011 - val_acc: 0.9760\n",
            "Epoch 28/50\n",
            "100/100 [==============================] - 33s 328ms/step - loss: 0.0567 - acc: 0.9830 - val_loss: 0.1486 - val_acc: 0.9640\n",
            "Epoch 29/50\n",
            "100/100 [==============================] - 34s 342ms/step - loss: 0.0499 - acc: 0.9805 - val_loss: 0.1128 - val_acc: 0.9730\n",
            "Epoch 30/50\n",
            "100/100 [==============================] - 33s 326ms/step - loss: 0.0371 - acc: 0.9880 - val_loss: 0.1649 - val_acc: 0.9630\n",
            "Epoch 31/50\n",
            "100/100 [==============================] - 35s 347ms/step - loss: 0.0433 - acc: 0.9850 - val_loss: 0.1302 - val_acc: 0.9620\n",
            "Epoch 32/50\n",
            "100/100 [==============================] - 32s 324ms/step - loss: 0.0421 - acc: 0.9855 - val_loss: 0.2323 - val_acc: 0.9480\n",
            "Epoch 33/50\n",
            "100/100 [==============================] - 33s 331ms/step - loss: 0.0387 - acc: 0.9870 - val_loss: 0.1327 - val_acc: 0.9700\n",
            "Epoch 34/50\n",
            "100/100 [==============================] - 33s 333ms/step - loss: 0.0413 - acc: 0.9860 - val_loss: 0.1267 - val_acc: 0.9620\n",
            "Epoch 35/50\n",
            "100/100 [==============================] - 32s 324ms/step - loss: 0.0355 - acc: 0.9860 - val_loss: 0.1755 - val_acc: 0.9640\n",
            "Epoch 36/50\n",
            "100/100 [==============================] - 34s 339ms/step - loss: 0.0379 - acc: 0.9885 - val_loss: 0.1641 - val_acc: 0.9590\n",
            "Epoch 37/50\n",
            "100/100 [==============================] - 33s 325ms/step - loss: 0.0363 - acc: 0.9875 - val_loss: 0.1546 - val_acc: 0.9600\n",
            "Epoch 38/50\n",
            "100/100 [==============================] - 32s 323ms/step - loss: 0.0306 - acc: 0.9880 - val_loss: 0.1986 - val_acc: 0.9590\n",
            "Epoch 39/50\n",
            "100/100 [==============================] - 33s 327ms/step - loss: 0.0344 - acc: 0.9880 - val_loss: 0.1243 - val_acc: 0.9670\n",
            "Epoch 40/50\n",
            "100/100 [==============================] - 32s 323ms/step - loss: 0.0296 - acc: 0.9890 - val_loss: 0.1294 - val_acc: 0.9680\n",
            "Epoch 41/50\n",
            "100/100 [==============================] - 34s 344ms/step - loss: 0.0436 - acc: 0.9880 - val_loss: 0.2470 - val_acc: 0.9560\n",
            "Epoch 42/50\n",
            "100/100 [==============================] - 33s 332ms/step - loss: 0.0315 - acc: 0.9915 - val_loss: 0.1170 - val_acc: 0.9650\n",
            "Epoch 43/50\n",
            "100/100 [==============================] - 33s 330ms/step - loss: 0.0382 - acc: 0.9855 - val_loss: 0.2141 - val_acc: 0.9570\n",
            "Epoch 44/50\n",
            "100/100 [==============================] - 32s 325ms/step - loss: 0.0343 - acc: 0.9925 - val_loss: 0.1649 - val_acc: 0.9670\n",
            "Epoch 45/50\n",
            "100/100 [==============================] - 33s 326ms/step - loss: 0.0340 - acc: 0.9900 - val_loss: 0.1633 - val_acc: 0.9610\n",
            "Epoch 46/50\n",
            "100/100 [==============================] - 35s 351ms/step - loss: 0.0213 - acc: 0.9930 - val_loss: 0.1800 - val_acc: 0.9610\n",
            "Epoch 47/50\n",
            "100/100 [==============================] - 34s 337ms/step - loss: 0.0351 - acc: 0.9875 - val_loss: 0.1722 - val_acc: 0.9610\n",
            "Epoch 48/50\n",
            "100/100 [==============================] - 34s 345ms/step - loss: 0.0254 - acc: 0.9925 - val_loss: 0.2151 - val_acc: 0.9570\n",
            "Epoch 49/50\n",
            "100/100 [==============================] - 34s 337ms/step - loss: 0.0248 - acc: 0.9925 - val_loss: 0.2104 - val_acc: 0.9600\n",
            "Epoch 50/50\n",
            "100/100 [==============================] - 35s 351ms/step - loss: 0.0297 - acc: 0.9905 - val_loss: 0.2999 - val_acc: 0.9440\n"
          ],
          "name": "stdout"
        }
      ]
    },
    {
      "metadata": {
        "id": "lefsP9bRY-Wa",
        "colab_type": "code",
        "outputId": "e5f36812-798c-4160-93f0-9a8fe6c5378f",
        "colab": {
          "base_uri": "https://localhost:8080/",
          "height": 545
        }
      },
      "cell_type": "code",
      "source": [
        "%matplotlib inline\n",
        "\n",
        "import matplotlib.pyplot as plt\n",
        "\n",
        "acc = history.history['acc']\n",
        "val_acc = history.history['val_acc']\n",
        "\n",
        "loss = history.history['loss']\n",
        "val_loss = history.history['val_loss']\n",
        "\n",
        "epochs = range(1, len(acc) + 1)\n",
        "\n",
        "# training and validation accuracy\n",
        "\n",
        "plt.plot(epochs, acc, 'bo', label='training acc')\n",
        "plt.plot(epochs, val_acc, 'b', label='validation acc')\n",
        "plt.title('training and validation accuracy')\n",
        "plt.legend()\n",
        "\n",
        "plt.figure()\n",
        "\n",
        "# training and validation loss\n",
        "\n",
        "plt.plot(epochs, loss, 'bo', label='training loss')\n",
        "plt.plot(epochs, val_loss, 'b', label='validation loss')\n",
        "plt.title('training and validation loss')\n",
        "plt.legend()\n",
        "\n",
        "plt.show()"
      ],
      "execution_count": 18,
      "outputs": [
        {
          "output_type": "display_data",
          "data": {
            "image/png": "[encoded data removed]",
            "text/plain": [
              "<Figure size 432x288 with 1 Axes>"
            ]
          },
          "metadata": {
            "tags": []
          }
        },
        {
          "output_type": "display_data",
          "data": {
            "image/png": "[encoded data removed]",
            "text/plain": [
              "<Figure size 432x288 with 1 Axes>"
            ]
          },
          "metadata": {
            "tags": []
          }
        }
      ]
    },
    {
      "metadata": {
        "id": "6tP_XjdEEPwz",
        "colab_type": "code",
        "colab": {}
      },
      "cell_type": "code",
      "source": [
        "val_loss, val_acc = model.evaluate_generator(validation_generator, steps=50)"
      ],
      "execution_count": 0,
      "outputs": []
    },
    {
      "metadata": {
        "id": "5Q1K8OeiZA2c",
        "colab_type": "code",
        "outputId": "b5bd6d7a-97a7-4b8b-a32a-3a9fc20ff8d4",
        "colab": {
          "base_uri": "https://localhost:8080/",
          "height": 72
        }
      },
      "cell_type": "code",
      "source": [
        "print(\"Validation loss:\", val_loss)\n",
        "print(\"Validation accuracy:\", val_acc)"
      ],
      "execution_count": 0,
      "outputs": [
        {
          "output_type": "stream",
          "text": [
            "Validation loss: [0.280052949488163, 0.2623970056883991, 0.188663087785244, 0.2760199823603034, 0.20222021237015725, 0.4246069499850273, 0.17925276787951588, 0.27070756698027254, 0.17015855507925154, 0.17580389739014207, 0.14119857864454388, 0.26275565443560484, 0.24657889747060835, 0.20384431605692954, 0.14854507090058178, 0.2344605913385749, 0.18509444305556827, 0.1822352900239639, 0.17128043372649698, 0.21167945233173668, 0.2320498254755512, 0.22241638423409313, 0.16047973915236072, 0.1706724752811715, 0.26654612260870636, 0.17820973621448502, 0.4027697864244692, 0.16741864281793822, 0.2588481782976305, 0.19577831997768955, 0.20193016435485334, 0.31204566307947973, 0.23960487115196882, 0.20514988098566392, 0.24920308716595174, 0.23835649235639722, 0.2469785211549606, 0.30123078904329303, 0.231108023669658, 0.3716223797299608, 0.2101743267314123, 0.20087905975116882, 0.21676657291362061, 0.19976241794065572, 0.2159064024881809, 0.28956208545554546, 0.1968471826700261, 0.24544860278860142, 0.2864452487922972, 0.39643295453968674, 0.23826500281073096, 0.24849407652000083, 0.26110925161628984, 0.23573563320824178, 0.2530901073697123, 0.2659902731119655, 0.32626620113951504, 0.2883983945447835, 0.31495673076686215, 0.26559374189630947, 0.40179232764854533, 0.22381781815143767, 0.34687649811701704, 0.2469711794311297, 0.36262951883210914, 0.2517588581095333, 0.24061623784160474, 0.3157388980462565, 0.40367887675645764, 0.25435924801779036, 0.25465344501435083, 0.3354278318461729, 0.34400193653382305, 0.42325525054009633, 0.25978850228248573, 0.37813673714343166, 0.2826676355777727, 0.3413391990670789, 0.2453725793520425, 0.32989725718216506, 0.37540447302331814, 0.2681174005122739, 0.4833261566249894, 0.2413934734164286, 0.23865943437085663, 0.36450771317537034, 0.2593462812186044, 0.3019519446899858, 0.34201135218594575, 0.32696852830194983, 0.33299531596087034, 0.6252919097876293, 0.4621168136213942, 0.4778324510381208, 0.3223402438783705, 0.32030034637049537, 0.4717846201178827, 0.37134968402928736, 0.31501122358889916, 0.3746598484281435]\n",
            "Validation accuracy: [0.8859999966621399, 0.8969999980926514, 0.9259999918937684, 0.8989999985694885, 0.9229999899864196, 0.8739999997615814, 0.933999992609024, 0.9209999942779541, 0.9239999926090241, 0.9349999916553497, 0.9449999952316284, 0.923999993801117, 0.9149999952316284, 0.9249999940395355, 0.9489999902248383, 0.9229999935626984, 0.9559999918937683, 0.9449999928474426, 0.9429999911785125, 0.9299999904632569, 0.9279999923706055, 0.9389999949932099, 0.9459999918937683, 0.9579999935626984, 0.9279999923706055, 0.948999993801117, 0.9109999990463257, 0.9529999911785125, 0.938999993801117, 0.9489999914169311, 0.9449999952316284, 0.9179999899864196, 0.9479999899864197, 0.9449999928474426, 0.938999993801117, 0.9449999940395355, 0.941999990940094, 0.9139999961853027, 0.9479999935626984, 0.9179999947547912, 0.948999992609024, 0.9429999923706055, 0.9499999904632568, 0.9519999945163726, 0.9459999930858612, 0.943999993801117, 0.946999990940094, 0.9519999921321869, 0.9289999914169311, 0.9349999940395355, 0.9459999918937683, 0.9399999952316285, 0.948999992609024, 0.953999992609024, 0.9459999895095825, 0.938999992609024, 0.9369999933242797, 0.9439999902248383, 0.9319999921321869, 0.9439999914169311, 0.9349999928474426, 0.945999995470047, 0.9249999916553497, 0.9539999914169311, 0.9289999949932098, 0.9489999949932099, 0.9509999907016754, 0.930999995470047, 0.9199999952316285, 0.943999993801117, 0.9419999897480011, 0.9409999918937683, 0.9329999899864196, 0.9249999916553497, 0.9479999923706055, 0.9249999964237213, 0.9519999945163726, 0.9359999918937683, 0.9529999923706055, 0.936999990940094, 0.9359999907016754, 0.9449999892711639, 0.9259999930858612, 0.9519999933242798, 0.9509999930858613, 0.9429999923706055, 0.9449999892711639, 0.9499999928474426, 0.941999990940094, 0.9479999923706055, 0.9409999895095825, 0.9159999907016754, 0.9319999885559082, 0.938999992609024, 0.9399999976158142, 0.9499999940395355, 0.9319999933242797, 0.938999993801117, 0.943999992609024, 0.9459999918937683]\n"
          ],
          "name": "stdout"
        }
      ]
    },
    {
      "metadata": {
        "id": "hDKcR5_MEWBI",
        "colab_type": "text"
      },
      "cell_type": "markdown",
      "source": [
        "**Problem 3:  Visualizing Heat Maps of class activation for model obtained from problem 2**"
      ]
    },
    {
      "metadata": {
        "id": "dh1BMUC-EmdC",
        "colab_type": "code",
        "colab": {}
      },
      "cell_type": "code",
      "source": [
        "last_conv_layer = model.get_layer('block5_conv4')"
      ],
      "execution_count": 0,
      "outputs": []
    },
    {
      "metadata": {
        "id": "3bigqtHKEqQA",
        "colab_type": "code",
        "colab": {}
      },
      "cell_type": "code",
      "source": [
        "import cv2\n",
        "from google.colab.patches import cv2_imshow\n",
        "%matplotlib inline\n",
        "from matplotlib import pyplot as plt\n",
        "import numpy as np\n",
        "from keras import backend as K\n",
        "from keras.preprocessing import image\n",
        "from keras.applications.vgg16 import preprocess_input, decode_predictions\n",
        "from keras import utils"
      ],
      "execution_count": 0,
      "outputs": []
    },
    {
      "metadata": {
        "id": "Dfwi9RWREzRU",
        "colab_type": "code",
        "colab": {}
      },
      "cell_type": "code",
      "source": [
        "def show_superimposed_image(img_path, heatmap):\n",
        "\n",
        "  img = cv2.imread(img_path)\n",
        "  # resize the heatmap to be the same size as the original image\n",
        "  heatmap = cv2.resize(heatmap, (img.shape[1], img.shape[0]))\n",
        "\n",
        "  heatmap = np.uint8(255 * heatmap)\n",
        "\n",
        "  heatmap = cv2.applyColorMap(heatmap, cv2.COLORMAP_JET)\n",
        "\n",
        "  superimposed_img = heatmap * 0.4 + img\n",
        "\n",
        "  cv2_imshow(superimposed_img)"
      ],
      "execution_count": 0,
      "outputs": []
    },
    {
      "metadata": {
        "id": "QdQCny6qE7PP",
        "colab_type": "code",
        "colab": {}
      },
      "cell_type": "code",
      "source": [
        "\n",
        "def process_image(img_path, idx=0):\n",
        "  img = image.load_img(img_path, target_size=(224, 224))\n",
        "  #\n",
        "  plt.imshow(img)\n",
        "  plt.grid(None)\n",
        "  plt.show()\n",
        "  #\n",
        "  x = image.img_to_array(img)\n",
        "  x = np.expand_dims(x, axis=0)\n",
        "  x = preprocess_input(x)\n",
        "  #\n",
        "  preds = model.predict(x)\n",
        " \n",
        "  grads = K.gradients(model.output[:, 0], last_conv_layer.output)[0]\n",
        "  pooled_grads = K.mean(grads, axis=(0, 1, 2))\n",
        "  iterate = K.function([model.input], [pooled_grads, last_conv_layer.output[0]])\n",
        "  pooled_grads_value, conv_layer_output_value = iterate([x])\n",
        "  \n",
        "  heatmap = np.mean(conv_layer_output_value, axis=-1)\n",
        "  heatmap = np.maximum(heatmap, 0)\n",
        "  heatmap /= np.max(heatmap)\n",
        "\n",
        "  plt.matshow(heatmap)\n",
        "  plt.grid(None)\n",
        "  plt.show()\n",
        "  show_superimposed_image(img_path, heatmap)"
      ],
      "execution_count": 0,
      "outputs": []
    },
    {
      "metadata": {
        "id": "Pw_pVPnMFAv-",
        "colab_type": "code",
        "colab": {}
      },
      "cell_type": "code",
      "source": [
        "!ls /tmp/cats_and_dogs_filtered/validation/cats | head -10\n",
        "!ls /tmp/cats_and_dogs_filtered/validation/dogs | head -10"
      ],
      "execution_count": 0,
      "outputs": []
    },
    {
      "metadata": {
        "id": "JvNM7B-CFOPC",
        "colab_type": "code",
        "colab": {}
      },
      "cell_type": "code",
      "source": [
        "process_image('/tmp/cats_and_dogs_filtered/validation/dogs/dog.1001.jpg')\n"
      ],
      "execution_count": 0,
      "outputs": []
    },
    {
      "metadata": {
        "id": "g8f7BP5jFYAU",
        "colab_type": "code",
        "colab": {}
      },
      "cell_type": "code",
      "source": [
        "process_image('/tmp/cats_and_dogs_filtered/validation/cats/cat.1001.jpg')\n"
      ],
      "execution_count": 0,
      "outputs": []
    },
    {
      "metadata": {
        "id": "2BesHko_FdIN",
        "colab_type": "text"
      },
      "cell_type": "markdown",
      "source": [
        "**Problem 4: **"
      ]
    }
  ]
}